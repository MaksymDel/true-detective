{
 "cells": [
  {
   "cell_type": "markdown",
   "metadata": {},
   "source": [
    "# Benchmarking GPT3 for abductive reasoning"
   ]
  },
  {
   "cell_type": "markdown",
   "metadata": {},
   "source": [
    "This notebook will benchmark the abductive reasoning of GPT3 by prompting it to solve detective puzzles from the dataset we gathered from the 5minutemystery.com website."
   ]
  },
  {
   "cell_type": "code",
   "execution_count": 1,
   "metadata": {},
   "outputs": [],
   "source": [
    "# !pip install openai\n",
    "# !pip install langchain"
   ]
  },
  {
   "cell_type": "code",
   "execution_count": 2,
   "metadata": {},
   "outputs": [],
   "source": [
    "import os\n",
    "# os.environ[\"OPENAI_API_KEY\"] = \"...\""
   ]
  },
  {
   "cell_type": "markdown",
   "metadata": {},
   "source": [
    "Experiments to compare:\n",
    "1. Zero-shot + Instruction + \"Let's think step-by-step\" chain of though prompt\n",
    "2. Zero-shot + Instruction prompt\n",
    "3. Zero-shot + Instruction + Full answer prompt\n",
    "4. Few-shot prompt\n",
    "\n",
    "Future work:\n",
    "1. Self-consistency\n",
    "2. Model type: Vanilla GPT3 vs InstructGPT vs HuggingFace Models\n",
    "3. Model scale: Small vs Medium vs Large vs XLarge (does abductive reasoning emerge with larger models?)\n",
    "4. Model class: MLM/CLM/Seq2seq?"
   ]
  },
  {
   "cell_type": "markdown",
   "metadata": {},
   "source": [
    "### Prompt template"
   ]
  },
  {
   "cell_type": "markdown",
   "metadata": {},
   "source": [
    "Below we define pieces of prompt that we use to compose a prompt template"
   ]
  },
  {
   "cell_type": "code",
   "execution_count": 3,
   "metadata": {},
   "outputs": [],
   "source": [
    "instruction = \"\"\"Your task is to solve a given mystery.\n",
    "The mystery is a detective puzzle presented as a short story.\n",
    "You will be given a list of answer options apart from the mystery content. \n",
    "Please give your final answer as\n",
    "(x) Your Answer\n",
    "where x is the number of the answer option.\n",
    "Only one answer from the list is correct, and your task is to identify which one.\\n\\n\\n\"\"\"\n",
    "\n",
    "mystery_body = \"\"\"Answer options: {suspects}.\n",
    "\n",
    "Mystery content:\n",
    "{mystery_name}\n",
    "\n",
    "{mystery_content}\"\"\"\n",
    "\n",
    "stepbystep = \"\"\"\\n\\nFull answer: \n",
    "Let's think step by step.\"\"\"\n",
    "\n",
    "cot = \"\"\"\\n\\nFull answer: \n",
    "{mystery_full_answer}\"\"\"\n",
    "\n",
    "final_q = \"\"\"\\n\\nFinal answer:\"\"\""
   ]
  },
  {
   "cell_type": "code",
   "execution_count": 4,
   "metadata": {},
   "outputs": [],
   "source": [
    "stub_model_response = \"\"\" Stub Chain of Thought.\"\"\"\n",
    "\n",
    "prompt_zeroshot = mystery_body + final_q\n",
    "prompt_zeroshot_instruct = instruction + mystery_body + final_q\n",
    "prompt_zeroshot_instruct_stepbystep = instruction + mystery_body + stepbystep + stub_model_response + final_q\n",
    "prompt_zeroshot_stepbystep = mystery_body + stepbystep + stub_model_response + final_q\n",
    "\n",
    "prompt_fewshot_instruct_cot_answer = \"...\"\n",
    "prompt_fewshot_instruct_cot = \"...\"\n",
    "prompt_fewshot_instruct_answer = \"...\"\n",
    "\n",
    "prompt_fewshot_cot_answer = \"...\"\n",
    "prompt_fewshot_cot = \"...\"\n",
    "prompt_fewshot_answer = \"...\""
   ]
  },
  {
   "cell_type": "code",
   "execution_count": 5,
   "metadata": {},
   "outputs": [],
   "source": [
    "from langchain import PromptTemplate, OpenAI, LLMChain\n",
    "from langchain.chains import SequentialChain\n",
    "from collections import defaultdict\n",
    "import pandas as pd"
   ]
  },
  {
   "cell_type": "code",
   "execution_count": 6,
   "metadata": {},
   "outputs": [],
   "source": [
    "predictions = defaultdict(list)\n",
    "predictions_chain_of_thought = defaultdict(list)\n",
    "\n",
    "df = pd.read_csv(\"detective-puzzles.csv\")"
   ]
  },
  {
   "cell_type": "markdown",
   "metadata": {},
   "source": [
    "### Evaluation utils"
   ]
  },
  {
   "cell_type": "code",
   "execution_count": 7,
   "metadata": {},
   "outputs": [],
   "source": [
    "def same_answers(pred_a: str, true_a: str):\n",
    "    if pred_a != true_a:\n",
    "        # discard dot at the end of answers\n",
    "        pred_a, true_a = strip_answers(pred_a, true_a)\n",
    "    \n",
    "    return int(pred_a == true_a)\n",
    "\n",
    "def strip_answers(pred_a, true_a):\n",
    "    pred_a = pred_a[:-1] if pred_a[-1] == \".\" else pred_a\n",
    "    true_a = true_a[:-1] if true_a[-1] == \".\" else true_a\n",
    "\n",
    "    # discard (x) at the beginning of answers\n",
    "    pred_a = pred_a[3:]\n",
    "    true_a = true_a[3:]\n",
    "    return pred_a,true_a\n",
    "\n",
    "def compute_solve_rate(pred_answers, true_answers):\n",
    "    solve_rate = 0\n",
    "    for pred_a, true_a in zip(pred_answers, true_answers):\n",
    "        if same_answers(pred_a, true_a):\n",
    "            solve_rate += 1\n",
    "    return solve_rate / len(pred_answers)"
   ]
  },
  {
   "cell_type": "markdown",
   "metadata": {},
   "source": [
    "### Random baseline"
   ]
  },
  {
   "cell_type": "code",
   "execution_count": 8,
   "metadata": {},
   "outputs": [
    {
     "data": {
      "text/plain": [
       "0.24202388743455483"
      ]
     },
     "execution_count": 8,
     "metadata": {},
     "output_type": "execute_result"
    }
   ],
   "source": [
    "# iterate over all cases and compute solve rate of random baseline\n",
    "# random baseline: randomly choose one of the answer options\n",
    "# make 10 random restarts\n",
    "import random\n",
    "\n",
    "# set seed\n",
    "random.seed(69)\n",
    "\n",
    "accuracy_per_restart = []\n",
    "for restart in range(256):\n",
    "    random_solve_rate_per_case = []\n",
    "    for i in range(len(df)):\n",
    "        answer_options = df[\"answer_options\"][i].split(\"; \")\n",
    "        random_answer = random.choice(answer_options)\n",
    "        random_solve_rate_per_case.append(int(same_answers(random_answer, df[\"answer\"][i])))\n",
    "    # get accuracy\n",
    "    accuracy_per_restart.append(sum(random_solve_rate_per_case) / len(random_solve_rate_per_case))\n",
    "# avg accuracy\n",
    "sum(accuracy_per_restart) / len(accuracy_per_restart)\n"
   ]
  },
  {
   "cell_type": "markdown",
   "metadata": {},
   "source": [
    "So the random solve rate is 24.5% (1/4)."
   ]
  },
  {
   "cell_type": "markdown",
   "metadata": {},
   "source": [
    "### Zero-shot Instruct Step-by-Step"
   ]
  },
  {
   "cell_type": "markdown",
   "metadata": {},
   "source": [
    "Check the form of the prompt we are giving"
   ]
  },
  {
   "cell_type": "code",
   "execution_count": 9,
   "metadata": {},
   "outputs": [
    {
     "name": "stdout",
     "output_type": "stream",
     "text": [
      "Your task is to solve a given mystery.\n",
      "The mystery is a detective puzzle presented as a short story.\n",
      "You will be given a list of answer options apart from the mystery content. \n",
      "Please give your final answer as\n",
      "(x) Your Answer\n",
      "where x is the number of the answer option.\n",
      "Only one answer from the list is correct, and your task is to identify which one.\n",
      "\n",
      "\n",
      "Answer options: {suspects}.\n",
      "\n",
      "Mystery content:\n",
      "{mystery_name}\n",
      "\n",
      "{mystery_content}\n",
      "\n",
      "Full answer: \n",
      "Let's think step by step.{chain_of_thought}\n",
      "\n",
      "Final answer:\n"
     ]
    }
   ],
   "source": [
    "print(instruction + mystery_body + stepbystep + \"{chain_of_thought}\" + final_q)"
   ]
  },
  {
   "cell_type": "markdown",
   "metadata": {},
   "source": [
    "Define acrtual prompt and eval pipeline"
   ]
  },
  {
   "cell_type": "code",
   "execution_count": 10,
   "metadata": {},
   "outputs": [],
   "source": [
    "# This is LLM to generate Chain of Thought\n",
    "\n",
    "llm = OpenAI(\n",
    "    model_name=\"text-davinci-003\",\n",
    "    temperature=0,\n",
    "    max_tokens=512,\n",
    ")\n",
    "\n",
    "cot_chain = LLMChain( \n",
    "    llm=llm,\n",
    "    verbose=False,\n",
    "    output_key=\"chain_of_thought\",\n",
    "    prompt=PromptTemplate(\n",
    "        template=instruction + mystery_body + stepbystep, \n",
    "        input_variables=[\"suspects\", \"mystery_name\", \"mystery_content\"],\n",
    "    )\n",
    ")"
   ]
  },
  {
   "cell_type": "code",
   "execution_count": 11,
   "metadata": {},
   "outputs": [],
   "source": [
    "# This is LLM to generate final answer using Chain of Thought output\n",
    "\n",
    "llm = OpenAI(\n",
    "    model_name=\"text-davinci-003\",\n",
    "    temperature=0,\n",
    "    max_tokens=64,\n",
    ")\n",
    "\n",
    "answer_chain = LLMChain(\n",
    "    llm=llm,\n",
    "    verbose=False,\n",
    "    output_key=\"answer\",\n",
    "    prompt=PromptTemplate(\n",
    "        template=instruction + mystery_body + stepbystep + \"{chain_of_thought}\" + final_q,\n",
    "        input_variables=[\"suspects\", \"mystery_name\", \"mystery_content\", \"chain_of_thought\"],\n",
    "    )\n",
    ")"
   ]
  },
  {
   "cell_type": "code",
   "execution_count": 12,
   "metadata": {},
   "outputs": [],
   "source": [
    "# This is the overall chain where we run these two chains in sequence.\n",
    "\n",
    "overall_chain = SequentialChain(\n",
    "    verbose=False,\n",
    "    chains=[cot_chain, answer_chain],\n",
    "    input_variables=[\"suspects\", \"mystery_name\", \"mystery_content\"],\n",
    "    output_variables=[\"chain_of_thought\", \"answer\"],\n",
    ")"
   ]
  },
  {
   "cell_type": "markdown",
   "metadata": {},
   "source": [
    "Evaluate on the test set"
   ]
  },
  {
   "cell_type": "code",
   "execution_count": 13,
   "metadata": {},
   "outputs": [
    {
     "name": "stderr",
     "output_type": "stream",
     "text": [
      "100%|██████████| 191/191 [17:50<00:00,  5.60s/it]\n"
     ]
    }
   ],
   "source": [
    "# the loop above rewritten with tqdm\n",
    "from tqdm import tqdm\n",
    "for i in tqdm(range(len(df))):\n",
    "    pred = overall_chain(\n",
    "        {\"suspects\": df[\"answer_options\"][i], \n",
    "        \"mystery_name\": df[\"case_name\"][i], \n",
    "        \"mystery_content\": df[\"mystery_text\"][i]}\n",
    "    )\n",
    "\n",
    "    predictions[\"zeroshot_instruct_stepbystep\"].append(pred[\"answer\"].strip())\n",
    "    predictions_chain_of_thought[\"zeroshot_instruct_stepbystep\"].append(pred[\"chain_of_thought\"])"
   ]
  },
  {
   "cell_type": "code",
   "execution_count": 14,
   "metadata": {},
   "outputs": [],
   "source": [
    "# save predictions\n",
    "df_pred = pd.DataFrame({\"answer\": predictions[\"zeroshot_instruct_stepbystep\"]})\n",
    "df_pred[\"chain_of_thought\"] = predictions_chain_of_thought[\"zeroshot_instruct_stepbystep\"]\n",
    "df_pred.to_csv(\"preds_zeroshot_instruct_stepbystep.csv\", index=False)"
   ]
  },
  {
   "cell_type": "code",
   "execution_count": 15,
   "metadata": {},
   "outputs": [],
   "source": [
    "# check solve rate\n",
    "# load preds_zeroshot_instruct_stepbystep.csv\n",
    "df_pred = pd.read_csv(\"preds_zeroshot_instruct_stepbystep.csv\")\n",
    "# load detective-puzzles.csv\n",
    "df = pd.read_csv(\"detective-puzzles.csv\")"
   ]
  },
  {
   "cell_type": "markdown",
   "metadata": {},
   "source": [
    "Check the solve rate of the model"
   ]
  },
  {
   "cell_type": "code",
   "execution_count": 16,
   "metadata": {},
   "outputs": [
    {
     "data": {
      "text/plain": [
       "0.28272251308900526"
      ]
     },
     "execution_count": 16,
     "metadata": {},
     "output_type": "execute_result"
    }
   ],
   "source": [
    "compute_solve_rate(df_pred[\"answer\"], df[\"answer\"])"
   ]
  },
  {
   "cell_type": "markdown",
   "metadata": {},
   "source": [
    "So the model is only slightly better than random baseline! Let's see if step-by-step prompt decreased the result. "
   ]
  },
  {
   "cell_type": "code",
   "execution_count": 17,
   "metadata": {},
   "outputs": [
    {
     "name": "stdout",
     "output_type": "stream",
     "text": [
      "Model answer:  Your Answer: Julia\n",
      "True answer:  Reg\n",
      "Answer options:  (a) Julia; (b) Kyle; (c) Lucius; (d) Reg\n",
      "Mystery name: The Disappearing Dollhouse \n",
      "\n",
      "Model answer:  Ed's Husky\n",
      "True answer:  Ed\n",
      "Answer options:  (a) Ed; (b) Ed’s Husky; (c) Ed's mother; (d) Zeke\n",
      "Mystery name: The Mysterious Chicken\n",
      "\n",
      "Model answer:  Your Answer\n",
      "True answer:  Lithograph photo\n",
      "Answer options:  (a) CSA currency; (b) Diamond necklace; (c) Gold money clip; (d) Jewel encrusted pistol; (e) Lithograph photo\n",
      "Mystery name: Mr. Patrick Back in Class\n",
      "\n"
     ]
    }
   ],
   "source": [
    "# print all answers where the model failed where the true answer is not in the list of answer options\n",
    "for i in range(len(df)):\n",
    "    # check if true answer is in the list of answer options\n",
    "    pred_a = df_pred[\"answer\"][i]\n",
    "    true_a = df[\"answer\"][i]\n",
    "    # strip answers\n",
    "    pred_a, true_a = strip_answers(pred_a, true_a)\n",
    "    if pred_a not in df[\"answer_options\"][i]:\n",
    "        print(f\"Model answer: \" + pred_a)\n",
    "        print(f\"True answer: \" + true_a)\n",
    "        print(f\"Answer options: \", df[\"answer_options\"][i])\n",
    "        print(f\"Mystery name: \" + df[\"case_name\"][i])\n",
    "        \n",
    "        print(\"\")"
   ]
  },
  {
   "cell_type": "markdown",
   "metadata": {},
   "source": [
    "### Zero-shot Instruct"
   ]
  },
  {
   "cell_type": "code",
   "execution_count": 18,
   "metadata": {},
   "outputs": [
    {
     "name": "stdout",
     "output_type": "stream",
     "text": [
      "Your task is to solve a given mystery.\n",
      "The mystery is a detective puzzle presented as a short story.\n",
      "You will be given a list of answer options apart from the mystery content. \n",
      "Please give your final answer as\n",
      "(x) Your Answer\n",
      "where x is the number of the answer option.\n",
      "Only one answer from the list is correct, and your task is to identify which one.\n",
      "\n",
      "\n",
      "Answer options: {suspects}.\n",
      "\n",
      "Mystery content:\n",
      "{mystery_name}\n",
      "\n",
      "{mystery_content}\n",
      "\n",
      "Final answer:\n"
     ]
    }
   ],
   "source": [
    "print(instruction + mystery_body + final_q)"
   ]
  },
  {
   "cell_type": "code",
   "execution_count": 19,
   "metadata": {},
   "outputs": [],
   "source": [
    "llm = OpenAI(\n",
    "    model_name=\"text-davinci-003\",\n",
    "    temperature=0,\n",
    "    max_tokens=64,\n",
    ")\n",
    "\n",
    "answer_chain = LLMChain(\n",
    "    llm=llm,\n",
    "    verbose=False,\n",
    "    output_key=\"answer\",\n",
    "    prompt=PromptTemplate(\n",
    "        template=instruction + mystery_body + final_q, \n",
    "        input_variables=[\"suspects\", \"mystery_name\", \"mystery_content\"],\n",
    "    )\n",
    ")"
   ]
  },
  {
   "cell_type": "code",
   "execution_count": 20,
   "metadata": {},
   "outputs": [
    {
     "name": "stderr",
     "output_type": "stream",
     "text": [
      "100%|██████████| 191/191 [17:16<00:00,  5.43s/it]\n"
     ]
    }
   ],
   "source": [
    "# the loop above rewritten with tqdm\n",
    "from tqdm import tqdm\n",
    "for i in tqdm(range(len(df))):\n",
    "    pred = overall_chain(\n",
    "        {\"suspects\": df[\"answer_options\"][i], \n",
    "        \"mystery_name\": df[\"case_name\"][i], \n",
    "        \"mystery_content\": df[\"mystery_text\"][i]}\n",
    "    )\n",
    "\n",
    "    predictions[\"zeroshot_instruct\"].append(pred[\"answer\"].strip())"
   ]
  },
  {
   "cell_type": "code",
   "execution_count": 16,
   "metadata": {},
   "outputs": [],
   "source": [
    "# save predictions\n",
    "df_pred = pd.DataFrame({\"answer\": predictions[\"zeroshot_instruct\"]})\n",
    "df_pred.to_csv(\"preds_zeroshot_instruct.csv\", index=False)"
   ]
  },
  {
   "cell_type": "code",
   "execution_count": 70,
   "metadata": {},
   "outputs": [
    {
     "data": {
      "text/plain": [
       "0.2670157068062827"
      ]
     },
     "execution_count": 70,
     "metadata": {},
     "output_type": "execute_result"
    }
   ],
   "source": [
    "# compute solve rate\n",
    "# load preds_zeroshot_instruct.csv\n",
    "df_pred = pd.read_csv(\"preds_zeroshot_instruct.csv\")\n",
    "# load detective-puzzles.csv\n",
    "df = pd.read_csv(\"detective-puzzles.csv\")\n",
    "\n",
    "compute_solve_rate(df_pred[\"answer\"], df[\"answer\"])"
   ]
  },
  {
   "cell_type": "markdown",
   "metadata": {},
   "source": [
    "So the step-by-step prompt increased result a bit. However, these answers are about random, so GPT3 is not capable of abstructive reasoning and common sense to the extent that is needed to sovle these detective puzzles on the human level."
   ]
  },
  {
   "cell_type": "code",
   "execution_count": 71,
   "metadata": {},
   "outputs": [],
   "source": [
    "def compute_solve_rate_per_case(pred_answers, true_answers):\n",
    "    solve_rate_per_case = []\n",
    "    for pred_a, true_a in zip(pred_answers, true_answers):\n",
    "        solve_rate_per_case.append(int(same_answers(pred_a, true_a)))\n",
    "    return solve_rate_per_case"
   ]
  },
  {
   "cell_type": "markdown",
   "metadata": {},
   "source": [
    "Lets see if easy puzzles for humans are easier for GPT3."
   ]
  },
  {
   "cell_type": "code",
   "execution_count": 72,
   "metadata": {},
   "outputs": [],
   "source": [
    "import matplotlib.pyplot as plt\n"
   ]
  },
  {
   "cell_type": "code",
   "execution_count": 78,
   "metadata": {},
   "outputs": [],
   "source": [
    "df_preds = pd.read_csv(\"preds_zeroshot_instruct_stepbystep.csv\")"
   ]
  },
  {
   "cell_type": "code",
   "execution_count": 79,
   "metadata": {},
   "outputs": [
    {
     "data": {
      "image/png": "[encoded data removed]",
      "text/plain": [
       "<Figure size 720x360 with 1 Axes>"
      ]
     },
     "metadata": {
      "needs_background": "light"
     },
     "output_type": "display_data"
    }
   ],
   "source": [
    "pred_solve_rate_per_case = compute_solve_rate_per_case(df_preds['answer'], df['answer'])\n",
    "# multiply by 100 to get percentage\n",
    "pred_solve_rate_per_case = [x * 100 for x in pred_solve_rate_per_case]\n",
    "\n",
    "# sort pred_solve_rate_per_case in the decreasing order of solve rate\n",
    "pred_solve_rate_per_case = [x for _,x in sorted(zip(df['solve_rate'], pred_solve_rate_per_case), reverse=True)]\n",
    "\n",
    "human_solve_rate_per_case = df['solve_rate']\n",
    "# sort human_solve_rate_per_case in the decreasing order of solve rate\n",
    "human_solve_rate_per_case = [x for _,x in sorted(zip(df['solve_rate'], human_solve_rate_per_case), reverse=True)]\n",
    "\n",
    "# plot pred and human solve rate per case\n",
    "# pred solve rate should be a scatter plot\n",
    "# human solve rate should be a line plot\n",
    "fig, ax = plt.subplots(figsize=(10, 5))\n",
    "ax.scatter(range(len(pred_solve_rate_per_case)), pred_solve_rate_per_case, label='pred solve rate')\n",
    "ax.plot(range(len(human_solve_rate_per_case)), human_solve_rate_per_case, label='human solve rate')\n",
    "ax.set_xlabel('case')\n",
    "ax.set_ylabel('solve rate')\n",
    "ax.set_title('Pred Solve Rate vs Human Solve Rate')\n",
    "ax.legend()\n",
    "plt.show()"
   ]
  },
  {
   "cell_type": "markdown",
   "metadata": {},
   "source": [
    "It seems answers of GPT3 are distributed equally among cases. "
   ]
  },
  {
   "cell_type": "markdown",
   "metadata": {},
   "source": [
    "### Chain of thought and vanilla prompting agreement"
   ]
  },
  {
   "cell_type": "markdown",
   "metadata": {},
   "source": [
    "Here we check if the chain of thought and vanilla prompting agree on the answer."
   ]
  },
  {
   "cell_type": "code",
   "execution_count": 84,
   "metadata": {},
   "outputs": [],
   "source": [
    "df_preds_vanilla = pd.read_csv(\"preds_zeroshot_instruct.csv\")\n",
    "df_preds_stepbystep = pd.read_csv(\"preds_zeroshot_instruct_stepbystep.csv\")\n",
    "\n",
    "# count how vanilla and step_by_step answers differ\n",
    "count = 0\n",
    "for i in range(len(df_preds_vanilla)):\n",
    "    if same_answers(df_preds_vanilla['answer'][i], df_preds_stepbystep['answer'][i]):\n",
    "        # print(f\"Vanilla answer: \" + df_preds_vanilla['answer'][i])\n",
    "        # print(f\"Step by step answer: \" + df_preds_stepbystep['answer'][i])\n",
    "        # print(f\"True answer: \" + df[\"answer\"][i])\n",
    "        # print(\"\")\n",
    "        count += 1"
   ]
  },
  {
   "cell_type": "code",
   "execution_count": 85,
   "metadata": {},
   "outputs": [
    {
     "data": {
      "text/plain": [
       "0.8481675392670157"
      ]
     },
     "execution_count": 85,
     "metadata": {},
     "output_type": "execute_result"
    }
   ],
   "source": [
    "count / len(df_preds_vanilla)"
   ]
  },
  {
   "cell_type": "markdown",
   "metadata": {},
   "source": [
    "It seems that in most cases CoT prompting indeed helps a bit, but in some cases it hurts. Overall it helps more."
   ]
  },
  {
   "cell_type": "code",
   "execution_count": 91,
   "metadata": {},
   "outputs": [
    {
     "name": "stdout",
     "output_type": "stream",
     "text": [
      "Step by step answer is correct\n",
      "Vanilla answer: (d) Uncle Larry\n",
      "Step by step answer: (b) Greg\n",
      "True answer: (b) Greg\n",
      "Answer options:  (a) Father; (b) Greg; (c) Tina; (d) Uncle Larry\n",
      "\n",
      "Vanilla answer is correct\n",
      "Vanilla answer: (d) Smith\n",
      "Step by step answer: (b) Marie\n",
      "True answer: (d) Smith\n",
      "Answer options:  (a) Jean; (b) Marie; (c) Molly; (d) Smith\n",
      "\n",
      "Vanilla answer is correct\n",
      "Vanilla answer: (a) Edith\n",
      "Step by step answer: (b) Joshua Sellers\n",
      "True answer: (a) Edith\n",
      "Answer options:  (a) Edith; (b) Joshua Sellers; (c) Muggles; (d) Rick\n",
      "\n",
      "Vanilla answer: (a) Horace\n",
      "Step by step answer: (b) Jake\n",
      "True answer: (d) Lewis\n",
      "Answer options:  (a) Horace; (b) Jake; (c) John; (d) Lewis\n",
      "\n",
      "Vanilla answer: (b) Elderly man\n",
      "Step by step answer: (d) Motorcyclist\n",
      "True answer: (a) Bug collector\n",
      "Answer options:  (a) Bug collector; (b) Elderly man; (c) Family man; (d) Motorcyclist\n",
      "\n",
      "Vanilla answer: (b) Joe Tucker\n",
      "Step by step answer: (c) Mikey Chanowski\n",
      "True answer: (d) Shea Callaghan\n",
      "Answer options:  (a) Hortence Lacombe; (b) Joe Tucker; (c) Mikey Chanowski; (d) Shea Callaghan\n",
      "\n",
      "Vanilla answer: (b) Ed’s Husky\n",
      "Step by step answer: (d) Zeke\n",
      "True answer: (a) Ed\n",
      "Answer options:  (a) Ed; (b) Ed’s Husky; (c) Ed's mother; (d) Zeke\n",
      "\n",
      "Vanilla answer: (b) Jill\n",
      "Step by step answer: (d) Mrs. Krantz\n",
      "True answer: (c) Mike Creighton\n",
      "Answer options:  (a) Dan Cartman; (b) Jill; (c) Mike Creighton; (d) Mrs. Krantz\n",
      "\n",
      "Vanilla answer is correct\n",
      "Vanilla answer: (c) Jesse\n",
      "Step by step answer: (b) Gordon\n",
      "True answer: (c) Jesse\n",
      "Answer options:  (a) Ernie; (b) Gordon; (c) Jesse; (d) Mac\n",
      "\n",
      "Vanilla answer: (c) Mitchell Land\n",
      "Step by step answer: (b) Matthew Light\n",
      "True answer: (d) Paul Benham\n",
      "Answer options:  (a) Chris Palmer; (b) Matthew Light; (c) Mitchell Land; (d) Paul Benham; (e) Russell Smith\n",
      "\n",
      "Vanilla answer is correct\n",
      "Vanilla answer: (a) Angelita\n",
      "Step by step answer: (d) Percy Wellington\n",
      "True answer: (a) Angelita\n",
      "Answer options:  (a) Angelita; (b) Emily; (c) Jessica; (d) Percy Wellington\n",
      "\n",
      "Step by step answer is correct\n",
      "Vanilla answer: (c) Leonard\n",
      "Step by step answer: (a) Cindy\n",
      "True answer: (a) Cindy\n",
      "Answer options:  (a) Cindy; (b) Henry; (c) Leonard; (d) Tom\n",
      "\n",
      "Vanilla answer: (d) Roxie\n",
      "Step by step answer: (c) Malcolm\n",
      "True answer: (a) Colonel Greenerbaum\n",
      "Answer options:  (a) Colonel Greenerbaum; (b) Fido; (c) Malcolm; (d) Roxie\n",
      "\n",
      "Step by step answer is correct\n",
      "Vanilla answer: (e) Ruth\n",
      "Step by step answer: (c) Leona\n",
      "True answer: (c) Leona\n",
      "Answer options:  (a) Alice; (b) Frances; (c) Leona; (d) Mary; (e) Ruth\n",
      "\n",
      "Step by step answer is correct\n",
      "Vanilla answer: (a) Dennis Boyles\n",
      "Step by step answer: (e) Patrick Boyles\n",
      "True answer: (e) Patrick Boyles\n",
      "Answer options:  (a) Dennis Boyles; (b) George Boyles; (c) John Boyles; (d) Patricia (Trish) Boyles Sykes; (e) Patrick Boyles\n",
      "\n",
      "Vanilla answer: (c) Ellen McCormick\n",
      "Step by step answer: (e) The ghost of Mike McCormick, Sr.\n",
      "True answer: (a) Casey McCormick\n",
      "Answer options:  (a) Casey McCormick; (b) Connie McCormick; (c) Ellen McCormick; (d) Michael McCormick, Jr.; (e) The ghost of Mike McCormick, Sr.\n",
      "\n",
      "Step by step answer is correct\n",
      "Vanilla answer: (c) Miser James Cartright (suicide)\n",
      "Step by step answer: (d) Moira Laurie\n",
      "True answer: (d) Moira Laurie\n",
      "Answer options:  (a) Dr. Gilchrest; (b) Jonathan Cartright; (c) Miser James Cartright (suicide); (d) Moira Laurie\n",
      "\n",
      "Step by step answer is correct\n",
      "Vanilla answer: (a) Big George Ratcliffe\n",
      "Step by step answer: (d) Slim Jameson\n",
      "True answer: (d) Slim Jameson\n",
      "Answer options:  (a) Big George Ratcliffe; (b) Chester Morris; (c) Joe Franklin; (d) Slim Jameson\n",
      "\n",
      "Vanilla answer is correct\n",
      "Vanilla answer: (d) Philips\n",
      "Step by step answer: (b) Mr. Forbes\n",
      "True answer: (d) Philips\n",
      "Answer options:  (a) Annie; (b) Mr. Forbes; (c) Mrs. Avery; (d) Philips\n",
      "\n",
      "Vanilla answer: (a) Abigail Thorpe\n",
      "Step by step answer: (d) Sarah Goodwin\n",
      "True answer: (b) Adam Browne\n",
      "Answer options:  (a) Abigail Thorpe; (b) Adam Browne; (c) Goodwife Browne; (d) Sarah Goodwin\n",
      "\n",
      "Vanilla answer: (e) The wristwatch (stopped at 5:22 p.m.).\n",
      "Step by step answer: (a) The grandfather clock (stopped at 10:10 p.m.).\n",
      "True answer: (b) The mantle clock (stopped at 10:59 p.m.)\n",
      "Answer options:  (a) The grandfather clock (stopped at 10:10 p.m.); (b) The mantle clock (stopped at 10:59 p.m.); (c) The pocket watch (stopped at 3:18 a.m.); (d) The wall clock (stopped at 2:01 a.m.); (e) The wristwatch (stopped at 5:22 p.m.)\n",
      "\n",
      "Vanilla answer: (a) Concerned Neighbor\n",
      "Step by step answer: (b) Confused Commuter\n",
      "True answer: (d) Smug in Suburbia\n",
      "Answer options:  (a) Concerned Neighbor; (b) Confused Commuter; (c) Perplexed Dog Walker; (d) Smug in Suburbia\n",
      "\n",
      "Vanilla answer: (c) Rusty\n",
      "Step by step answer: (b) Ann\n",
      "True answer: (d) Uncle Ezra\n",
      "Answer options:  (a) Alfred; (b) Ann; (c) Rusty; (d) Uncle Ezra\n",
      "\n",
      "Step by step answer is correct\n",
      "Vanilla answer: (d) Nancy Lee\n",
      "Step by step answer: (b) Donna Allen\n",
      "True answer: (b) Donna Allen\n",
      "Answer options:  (a) David Kelly; (b) Donna Allen; (c) Larry Roberts; (d) Nancy Lee\n",
      "\n",
      "Vanilla answer is correct\n",
      "Vanilla answer: (d) Mrs. Fairbank\n",
      "Step by step answer: (b) Mr. Fairbank\n",
      "True answer: (d) Mrs. Fairbank\n",
      "Answer options:  (a) Ian Fairbank; (b) Mr. Fairbank; (c) Mr. Lewis Rhys; (d) Mrs. Fairbank\n",
      "\n",
      "Step by step answer is correct\n",
      "Vanilla answer: (a) Great Marchelli\n",
      "Step by step answer: (d) Sheriff\n",
      "True answer: (d) Sheriff\n",
      "Answer options:  (a) Great Marchelli; (b) Lorenzo; (c) Ringmaster; (d) Sheriff\n",
      "\n",
      "Vanilla answer: (a) Bob Parsons\n",
      "Step by step answer: (c) Sam Greenway\n",
      "True answer: (d) Sarah Parsons\n",
      "Answer options:  (a) Bob Parsons; (b) John Entwhistle III; (c) Sam Greenway; (d) Sarah Parsons\n",
      "\n",
      "Vanilla answer: (2) Joe Clark\n",
      "Step by step answer: (a) Bethany Knight\n",
      "True answer: (e) Wayne Clark\n",
      "Answer options:  (a) Bethany Knight; (b) Joe Clark; (c) Sherry Fogle; (d) Tonya Muse; (e) Wayne Clark\n",
      "\n",
      "Vanilla answer is correct\n",
      "Vanilla answer: (b) Frankie Cole\n",
      "Step by step answer: (a) Amy Golden\n",
      "True answer: (b) Frankie Cole\n",
      "Answer options:  (a) Amy Golden; (b) Frankie Cole; (c) Jeremy Steele; (d) Lionel Jacobs; (e) Susan Barker\n",
      "\n"
     ]
    }
   ],
   "source": [
    "# check how much of these answers that differ are correct for each pred and vanilla\n",
    "count_vanilla_correct = 0\n",
    "count_stepbystep_correct = 0\n",
    "for i in range(len(df_preds_vanilla)):\n",
    "    if not same_answers(df_preds_vanilla['answer'][i], df_preds_stepbystep['answer'][i]):\n",
    "        # check if vanilla answer is correct or step by step answer is correct\n",
    "        if same_answers(df_preds_vanilla['answer'][i], df[\"answer\"][i]):\n",
    "            count_vanilla_correct += 1\n",
    "            print(f\"Vanilla answer is correct\")\n",
    "        if same_answers(df_preds_stepbystep['answer'][i], df[\"answer\"][i]):\n",
    "            count_stepbystep_correct += 1\n",
    "            print(f\"Step by step answer is correct\")\n",
    "        print(f\"Vanilla answer: \" + df_preds_vanilla['answer'][i])\n",
    "        print(f\"Step by step answer: \" + df_preds_stepbystep['answer'][i])\n",
    "        print(f\"True answer: \" + df[\"answer\"][i])\n",
    "        print(f\"Answer options: \", df[\"answer_options\"][i])\n",
    "        print(\"\")\n"
   ]
  },
  {
   "cell_type": "markdown",
   "metadata": {},
   "source": [
    "## Conclusion\n",
    "\n",
    "GPT3 is not capable of abductive reasoning and common sense to the extent that is needed to sovle these detective puzzles on the human level. \n",
    "</br></br>It scores 27% with CoT prompting and 26% with simple prompting while random baseline is 24% and human-level is 47%. \n",
    "</br></br>Is it too small for this task? =)"
   ]
  }
 ],
 "metadata": {
  "kernelspec": {
   "display_name": "Python 3.10.4 ('minirl')",
   "language": "python",
   "name": "python3"
  },
  "language_info": {
   "codemirror_mode": {
    "name": "ipython",
    "version": 3
   },
   "file_extension": ".py",
   "mimetype": "text/x-python",
   "name": "python",
   "nbconvert_exporter": "python",
   "pygments_lexer": "ipython3",
   "version": "3.10.4 | packaged by conda-forge | (main, Mar 30 2022, 08:38:02) [MSC v.1916 64 bit (AMD64)]"
  },
  "orig_nbformat": 4,
  "vscode": {
   "interpreter": {
    "hash": "7ae41c531dae388d432c578af6f2c159705b5a45abf954f5c43dd5cfbfe0fa12"
   }
  }
 },
 "nbformat": 4,
 "nbformat_minor": 2
}
