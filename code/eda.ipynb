{
 "cells": [
  {
   "cell_type": "markdown",
   "metadata": {},
   "source": [
    "# Data"
   ]
  },
  {
   "cell_type": "markdown",
   "metadata": {},
   "source": [
    "Team: Maksym Del\n",
    "\n",
    "Note: as this project has making a benchmark at its core, gathering dataset was the key activity.\n",
    "Following works will use GPT3 API to test the knowledge of the model."
   ]
  },
  {
   "cell_type": "code",
   "execution_count": 1,
   "metadata": {},
   "outputs": [],
   "source": [
    "import pandas as pd\n",
    "import numpy as np\n",
    "import matplotlib.pyplot as plt\n",
    "import seaborn as sns"
   ]
  },
  {
   "cell_type": "markdown",
   "metadata": {},
   "source": [
    "We gathered dataset of 192 detective puzzles from the https://www.5minutemystery.com/. \n",
    "</br>Detective puzzle is a short mystery story describing some crime. \n",
    "</br>Each detective puzzle has a list of suspects and a correct answer.\n",
    "</br>So the task is formulated as a multiple-choice question answering.\n",
    "</br>Additionaly, every detective puzzle also has a full answer, describing how the guilty suspect actually performed his crime.\n",
    "</br>While the question is to find the person who is guilty in most cases, </br>some times the puzzle is formulated as a question about the place and or an event that happened in the crime.\n",
    " \n",
    "</br>This notebook performes exploratory data analysis on the dataset.   "
   ]
  },
  {
   "cell_type": "code",
   "execution_count": 2,
   "metadata": {},
   "outputs": [],
   "source": [
    "# Read in the data\n",
    "df = pd.read_csv('detective-puzzles.csv')"
   ]
  },
  {
   "cell_type": "code",
   "execution_count": 5,
   "metadata": {},
   "outputs": [],
   "source": [
    "# change order of columns\n",
    "df = df[['case_name', 'case_url', 'author_name', 'author_url', 'attempts', 'solve_rate', 'mystery_text', 'answer_options', 'answer', 'outcome']]"
   ]
  },
  {
   "cell_type": "markdown",
   "metadata": {},
   "source": [
    "### Solve rate"
   ]
  },
  {
   "cell_type": "markdown",
   "metadata": {},
   "source": [
    "Every detective puzzle was solved on the 5minutemystery.com website by users many times so it is meaningful to talk about solve rate of each puzzle individually."
   ]
  },
  {
   "cell_type": "code",
   "execution_count": 6,
   "metadata": {},
   "outputs": [
    {
     "data": {
      "text/plain": [
       "47.018324607329845"
      ]
     },
     "execution_count": 6,
     "metadata": {},
     "output_type": "execute_result"
    }
   ],
   "source": [
    "df['solve_rate'].mean()"
   ]
  },
  {
   "cell_type": "code",
   "execution_count": 315,
   "metadata": {},
   "outputs": [
    {
     "data": {
      "text/plain": [
       "Moe Zilla            43\n",
       "Tom Fowler           42\n",
       "William Shepard      24\n",
       "Laird Long           18\n",
       "Robbie Cutler        12\n",
       "Barney Parmington    10\n",
       "Stefanina Hill        6\n",
       "Steve Shrott          6\n",
       "Nick Andreychuk       5\n",
       "Nicholas LeVack       4\n",
       "Ernest Capraro        2\n",
       "Andrea Hein           2\n",
       "Doug Fellin           2\n",
       "Tammy-Lee Miller      2\n",
       "Meghan Ford           1\n",
       "Brad Marsh            1\n",
       "Susanne Shaphren      1\n",
       "Randy Godwin          1\n",
       "Ryan Hogan            1\n",
       "Matthew Lieff         1\n",
       "Perry McCarney        1\n",
       "Nicholas Lovell       1\n",
       "Mike Wever            1\n",
       "Meg A.  Write         1\n",
       "Elsa Darcy            1\n",
       "PIP Writer            1\n",
       "Julie Hockenberry     1\n",
       "Name: author_name, dtype: int64"
      ]
     },
     "execution_count": 315,
     "metadata": {},
     "output_type": "execute_result"
    }
   ],
   "source": [
    "# count of cases by author\n",
    "df['author_name'].value_counts()"
   ]
  },
  {
   "cell_type": "code",
   "execution_count": null,
   "metadata": {},
   "outputs": [],
   "source": [
    "Moe Zilla, Tom Fowler, William Shepard, Laird Long, Robbie Cutler, Barney Parmington, Stefanina Hill, Steve Shrott, Nick Andreychuk, Nicholas LeVack, Ernest Capraro, Andrea Hein, Doug Fellin, Tammy-Lee Miller, Meghan Ford, Brad Marsh, Susanne Shaphren, Randy Godwin, Ryan Hogan, Matthew Lieff, Perry McCarney, Nicholas Lovell, Mike Wever, Meg A. Write, Elsa Darcy, PIP Writer, Julie Hockenberry"
   ]
  },
  {
   "cell_type": "code",
   "execution_count": 343,
   "metadata": {},
   "outputs": [
    {
     "data": {
      "text/plain": [
       "'Moe Zilla, Tom Fowler, William Shepard, Laird Long, Robbie Cutler, Barney Parmington, Stefanina Hill, Steve Shrott, Nick Andreychuk, Nicholas LeVack, Ernest Capraro, Andrea Hein, Doug Fellin, Tammy-Lee Miller, Meghan Ford, Brad Marsh, Susanne Shaphren, Randy Godwin, Ryan Hogan, Matthew Lieff, Perry McCarney, Nicholas Lovell, Mike Wever, Meg A.  Write, Elsa Darcy, PIP Writer, Julie Hockenberry'"
      ]
     },
     "execution_count": 343,
     "metadata": {},
     "output_type": "execute_result"
    }
   ],
   "source": [
    "# just list all authors in the order of most cases to least\n",
    "\", \".join(list(df['author_name'].value_counts().index))"
   ]
  },
  {
   "cell_type": "code",
   "execution_count": 64,
   "metadata": {},
   "outputs": [
    {
     "data": {
      "image/png": "[encoded data removed]",
      "text/plain": [
       "<Figure size 720x360 with 1 Axes>"
      ]
     },
     "metadata": {
      "needs_background": "light"
     },
     "output_type": "display_data"
    }
   ],
   "source": [
    "# plot solve rate (y) in decreasing order with a bar chart\n",
    "df.sort_values(by='solve_rate', ascending=False).plot.bar(x=None, y='solve_rate', figsize=(10, 5), title='Human Solve Rate by Case')\n",
    "# skip x axes labels\n",
    "plt.xticks([])\n",
    "# add mean solve rate as a horizontal line\n",
    "plt.axhline(df['solve_rate'].mean(), color='r', linestyle='--')\n",
    "# add mean solve rate line to the legend\n",
    "plt.legend(['Average Solve Rate', 'Solve Rate by Case'])\n",
    "\n",
    "plt.yticks(np.append(plt.yticks()[0], df['solve_rate'].mean()))\n",
    "\n",
    "# round y ticks to 0 decimal places and add percentage symbol\n",
    "plt.yticks([round(x, 0) for x in plt.yticks()[0]], [str(int(x)) + '%' for x in plt.yticks()[0]])\n",
    "\n",
    "# add x and y labels\n",
    "plt.xlabel('Case')\n",
    "plt.ylabel('Solve Rate')\n",
    "\n",
    "\n",
    "# save as pdf\n",
    "plt.savefig('figures/eda_solve_rate.pdf')"
   ]
  },
  {
   "cell_type": "markdown",
   "metadata": {},
   "source": [
    "The graph above shows that while some puzzles are solved very often, some puzzles are solved very rarely with the average solve rate of of about 47%."
   ]
  },
  {
   "cell_type": "markdown",
   "metadata": {},
   "source": [
    "### Attempts"
   ]
  },
  {
   "cell_type": "markdown",
   "metadata": {},
   "source": [
    "Each puzzle was attempted many times by users, so let's look at the distribution of attempts."
   ]
  },
  {
   "cell_type": "code",
   "execution_count": 8,
   "metadata": {},
   "outputs": [
    {
     "data": {
      "text/plain": [
       "1984.4816753926702"
      ]
     },
     "execution_count": 8,
     "metadata": {},
     "output_type": "execute_result"
    }
   ],
   "source": [
    "df['attempts'].mean()"
   ]
  },
  {
   "cell_type": "code",
   "execution_count": 52,
   "metadata": {},
   "outputs": [
    {
     "data": {
      "image/png": "[encoded data removed]",
      "text/plain": [
       "<Figure size 720x360 with 1 Axes>"
      ]
     },
     "metadata": {
      "needs_background": "light"
     },
     "output_type": "display_data"
    },
    {
     "data": {
      "text/plain": [
       "<Figure size 432x288 with 0 Axes>"
      ]
     },
     "metadata": {},
     "output_type": "display_data"
    }
   ],
   "source": [
    "# plot attempts (y) in decreasing order of solve rate with a bar chart\n",
    "df.sort_values(by='solve_rate', ascending=False).plot.bar(x=None, y='attempts', figsize=(10, 5), title='Attempts by Case')\n",
    "# skip x axes labels\n",
    "plt.xticks([])\n",
    "# add mean attempts as a horizontal line\n",
    "plt.axhline(df['attempts'].mean(), color='r', linestyle='--')\n",
    "# add mean attempts line to the legend\n",
    "plt.legend(['Average Attempts', 'Attempts by Case'])\n",
    "\n",
    "# add a y axis tick for the mean attempts\n",
    "plt.yticks(np.append(plt.yticks()[0], df['attempts'].mean()))\n",
    "\n",
    "# add x and y labels\n",
    "plt.xlabel('Case')\n",
    "plt.ylabel('Attempts')\n",
    "\n",
    "plt.show()\n",
    "\n",
    "# save as pdf\n",
    "plt.savefig('figures/eda_attempts.pdf')\n",
    "\n",
    "\n"
   ]
  },
  {
   "cell_type": "markdown",
   "metadata": {},
   "source": [
    "We see that the average number of attempts is around 2000, so the human evaluation is a very massive in this dataset."
   ]
  },
  {
   "cell_type": "markdown",
   "metadata": {},
   "source": [
    "Let's look at the distribution of attempts over the puzzle sovle rates."
   ]
  },
  {
   "cell_type": "markdown",
   "metadata": {},
   "source": [
    "The graph says that users do not attempt to solve hard puzzles more often than easy puzzles."
   ]
  },
  {
   "cell_type": "markdown",
   "metadata": {},
   "source": [
    "### Number of answer options"
   ]
  },
  {
   "cell_type": "code",
   "execution_count": 53,
   "metadata": {},
   "outputs": [
    {
     "data": {
      "text/plain": [
       "4    160\n",
       "5     30\n",
       "3      1\n",
       "Name: answer_options_count, dtype: int64"
      ]
     },
     "execution_count": 53,
     "metadata": {},
     "output_type": "execute_result"
    }
   ],
   "source": [
    "\n",
    "\n",
    "# count number of cases with 3,4, and 5 answer options\n",
    "df['answer_options_count'].value_counts()"
   ]
  },
  {
   "attachments": {},
   "cell_type": "markdown",
   "metadata": {},
   "source": [
    "This table shows that most answers have 4 or 5 answer options and they do not correlate with solve rates."
   ]
  },
  {
   "cell_type": "markdown",
   "metadata": {},
   "source": [
    "### Let's look at how long our puzzles are"
   ]
  },
  {
   "cell_type": "code",
   "execution_count": 54,
   "metadata": {},
   "outputs": [
    {
     "data": {
      "image/png": "[encoded data removed]",
      "text/plain": [
       "<Figure size 720x360 with 1 Axes>"
      ]
     },
     "metadata": {
      "needs_background": "light"
     },
     "output_type": "display_data"
    }
   ],
   "source": [
    "# plot mystery word count (y) in decreasing order of solve rate with a bar chart\n",
    "df['mystery_text_length'] = df['mystery_text'].str.split(' ').str.len()\n",
    "df.sort_values(by='solve_rate', ascending=False).plot.bar(x=None, y='mystery_text_length', figsize=(10, 5), title='Mystery Word Count by Case')\n",
    "# skip x axes labels\n",
    "plt.xticks([])\n",
    "# add mean mystery text length as a horizontal line\n",
    "plt.axhline(df['mystery_text_length'].mean(), color='r', linestyle='--')\n",
    "# add mean mystery text length line to the legend\n",
    "plt.legend(['Average Mystery Word Count (1204)', 'Mystery Word Count by Case'])\n",
    "\n",
    "# add x and y labels\n",
    "plt.xlabel('Case')\n",
    "plt.ylabel('Mystery Word Count')\n",
    "\n",
    "# save as pdf\n",
    "plt.savefig('figures/eda_mystery_word_count.pdf')\n"
   ]
  },
  {
   "cell_type": "code",
   "execution_count": 40,
   "metadata": {},
   "outputs": [
    {
     "data": {
      "text/plain": [
       "1204.4450261780105"
      ]
     },
     "execution_count": 40,
     "metadata": {},
     "output_type": "execute_result"
    }
   ],
   "source": [
    "# average number of words in mystery text\n",
    "df['mystery_text_word_count'].mean()"
   ]
  },
  {
   "cell_type": "markdown",
   "metadata": {},
   "source": [
    "We see that puzzles are 2000 words at most and solve rate does not correlate with the length of the puzzle."
   ]
  },
  {
   "cell_type": "markdown",
   "metadata": {},
   "source": [
    "Let's repeat the same for the full answer."
   ]
  },
  {
   "cell_type": "code",
   "execution_count": 55,
   "metadata": {},
   "outputs": [
    {
     "data": {
      "image/png": "[encoded data removed]",
      "text/plain": [
       "<Figure size 720x360 with 1 Axes>"
      ]
     },
     "metadata": {
      "needs_background": "light"
     },
     "output_type": "display_data"
    }
   ],
   "source": [
    "# plot mystery 'outcome' length (y) in decreasing order of solve rate with a bar chart\n",
    "df['outcome_length'] = df['outcome'].str.split(' ').str.len()\n",
    "df.sort_values(by='solve_rate', ascending=False).plot.bar(x=None, y='outcome_length', figsize=(10, 5), title='Outcome Word Count by Case')\n",
    "# skip x axes labels\n",
    "plt.xticks([])\n",
    "# add mean outcome length as a horizontal line\n",
    "plt.axhline(df['outcome_length'].mean(), color='r', linestyle='--')\n",
    "# add y tick for the mean outcome length\n",
    "plt.yticks(np.append(plt.yticks()[0], df['outcome_length'].mean()))\n",
    "# add mean outcome length line to the legend\n",
    "plt.legend(['Average Outcome Word Count', 'Outcome Word Count by Case'])\n",
    "\n",
    "# add x and y labels\n",
    "plt.xlabel('Case')\n",
    "plt.ylabel('Outcome Word Count')\n",
    "\n",
    "# save as pdf\n",
    "plt.savefig('figures/eda_outcome_word_count.pdf')\n",
    "\n",
    "\n"
   ]
  },
  {
   "cell_type": "code",
   "execution_count": 56,
   "metadata": {},
   "outputs": [
    {
     "data": {
      "text/plain": [
       "264.9005235602094"
      ]
     },
     "execution_count": 56,
     "metadata": {},
     "output_type": "execute_result"
    }
   ],
   "source": [
    "# get the average number of words in outcome\n",
    "df['outcome_length'].mean()\n"
   ]
  },
  {
   "cell_type": "markdown",
   "metadata": {},
   "source": [
    "Full answers are up to 600 words and solve rate does not correlate with the length of the full answer."
   ]
  },
  {
   "cell_type": "markdown",
   "metadata": {},
   "source": [
    "### Summary"
   ]
  },
  {
   "cell_type": "markdown",
   "metadata": {},
   "source": [
    "As the graphs above do not correlate with the solve rate, we can just use box plots to concisely and fully summarize the statistics of the dataset."
   ]
  },
  {
   "cell_type": "code",
   "execution_count": 82,
   "metadata": {},
   "outputs": [
    {
     "data": {
      "text/plain": [
       "Text(0, 0.5, 'Solve Rate')"
      ]
     },
     "execution_count": 82,
     "metadata": {},
     "output_type": "execute_result"
    },
    {
     "data": {
      "image/png": "[encoded data removed]",
      "text/plain": [
       "<Figure size 720x360 with 1 Axes>"
      ]
     },
     "metadata": {
      "needs_background": "light"
     },
     "output_type": "display_data"
    }
   ],
   "source": [
    "# make the solve_rate figure a boxplot using plt and not pandas\n",
    "plt.figure(figsize=(10, 5))\n",
    "plt.boxplot(df['solve_rate'])\n",
    "plt.title('Solve Rate Distribution')\n",
    "plt.ylabel('Solve Rate')\n",
    "# plt.savefig('figures/eda_solve_rate_boxplot.pdf')\n"
   ]
  },
  {
   "cell_type": "code",
   "execution_count": null,
   "metadata": {},
   "outputs": [],
   "source": []
  },
  {
   "cell_type": "code",
   "execution_count": 210,
   "metadata": {},
   "outputs": [],
   "source": [
    "# remove outcome_word_count column\n",
    "df.drop(columns=['outcome_word_count'], inplace=True)\n",
    "df.drop(columns=['mystery_word_count'], inplace=True)\n"
   ]
  },
  {
   "cell_type": "code",
   "execution_count": 211,
   "metadata": {},
   "outputs": [],
   "source": [
    "# create amd add  mystery_word_count and outcome_word_count to df\n",
    "df['mystery_word_count'] = df['mystery_text'].str.split(' ').str.len()\n",
    "df['outcome_word_count'] = df['outcome'].str.split(' ').str.len()"
   ]
  },
  {
   "cell_type": "code",
   "execution_count": 214,
   "metadata": {},
   "outputs": [
    {
     "data": {
      "image/png": "[encoded data removed]",
      "text/plain": [
       "<Figure size 1440x144 with 4 Axes>"
      ]
     },
     "metadata": {
      "needs_background": "light"
     },
     "output_type": "display_data"
    }
   ],
   "source": [
    "# plot last 4 figures in one 1x4 grid\n",
    "fig, axes = plt.subplots(1, 4, figsize=(20, 2))\n",
    "sns.boxplot(x='solve_rate', data=df.sort_values(by='solve_rate', ascending=False), orient='h', ax=axes[0])\n",
    "sns.boxplot(x='attempts', data=df.sort_values(by='solve_rate', ascending=False), orient='h', ax=axes[1])\n",
    "sns.boxplot(x='mystery_word_count', data=df.sort_values(by='solve_rate', ascending=False), orient='h', ax=axes[2])\n",
    "sns.boxplot(x='outcome_word_count', data=df.sort_values(by='solve_rate', ascending=False), orient='h', ax=axes[3])\n",
    "\n",
    "# decrease space between subplots\n",
    "plt.subplots_adjust(wspace=0.05)\n",
    "\n",
    "# add more ticks to attempt boxplot\n",
    "\n",
    "# make all tickes angeled\n",
    "for ax in axes:\n",
    "    for tick in ax.get_xticklabels():\n",
    "        tick.set_rotation(45)\n",
    "\n",
    "\n",
    "# add x labels\n",
    "axes[0].set_xlabel('Solve Rate')\n",
    "axes[1].set_xlabel('Attempts')\n",
    "axes[2].set_xlabel('Mystery Word Count')\n",
    "axes[3].set_xlabel('Outcome Word Count')\n",
    "\n",
    "# add median value as x-tick to each boxplot\n",
    "for ax in axes:\n",
    "    ax.set_xticks(np.append(ax.get_xticks(), df[\"_\".join(ax.get_xlabel().lower().split(\" \"))].median()))\n",
    "\n",
    "\n",
    "# save as pdf\n",
    "plt.savefig('figures/eda_boxplots.pdf')"
   ]
  },
  {
   "cell_type": "code",
   "execution_count": 268,
   "metadata": {},
   "outputs": [
    {
     "data": {
      "text/plain": [
       "<AxesSubplot:xlabel='solve_rate'>"
      ]
     },
     "execution_count": 268,
     "metadata": {},
     "output_type": "execute_result"
    },
    {
     "data": {
      "image/png": "[encoded data removed]",
      "text/plain": [
       "<Figure size 360x72 with 1 Axes>"
      ]
     },
     "metadata": {
      "needs_background": "light"
     },
     "output_type": "display_data"
    }
   ],
   "source": [
    "fig, ax = plt.subplots(figsize=(5, 1))\n",
    "# showmeans=True shows the mean as a dot, make it white dot\n",
    "sns.boxplot(x='solve_rate', data=df.sort_values(by='solve_rate', ascending=False), orient='h', ax=ax, \n",
    "showmeans=True, meanprops={'marker':'o', 'markerfacecolor':'red', 'markeredgecolor':'red'})\n",
    "\n"
   ]
  },
  {
   "cell_type": "code",
   "execution_count": 269,
   "metadata": {},
   "outputs": [
    {
     "data": {
      "text/plain": [
       "array([10., 20., 30., 40., 50., 60., 70., 80.])"
      ]
     },
     "execution_count": 269,
     "metadata": {},
     "output_type": "execute_result"
    }
   ],
   "source": [
    "ax.get_xticks()"
   ]
  },
  {
   "cell_type": "code",
   "execution_count": 273,
   "metadata": {},
   "outputs": [],
   "source": [
    "import numpy as np"
   ]
  },
  {
   "cell_type": "code",
   "execution_count": 311,
   "metadata": {},
   "outputs": [
    {
     "data": {
      "image/png": "[encoded data removed]",
      "text/plain": [
       "<Figure size 360x72 with 1 Axes>"
      ]
     },
     "metadata": {
      "needs_background": "light"
     },
     "output_type": "display_data"
    }
   ],
   "source": [
    "# Now save these 4 boxplos as separate pdf for each figure\n",
    "# for this create new figures\n",
    "fig, ax = plt.subplots(figsize=(5, 1))\n",
    "# showmeans=True shows the mean as a dot, make it white dot\n",
    "sns.boxplot(x='solve_rate', data=df.sort_values(by='solve_rate', ascending=False), orient='h', ax=ax, \n",
    "showmeans=True, meanprops={'marker':'o', 'markerfacecolor':'red', 'markeredgecolor':'red'})\n",
    "\n",
    "# remove tick with index 4\n",
    "ax.set_xticks(np.delete(ax.get_xticks(), 4))\n",
    "\n",
    "\n",
    "# add tick for the mean in red\n",
    "ax.set_xticks(np.append(ax.get_xticks(), df['solve_rate'].mean()))\n",
    "\n",
    "\n",
    "# make it red\n",
    "ax.get_xticklabels()[-1].set_color('red')\n",
    "\n",
    "\n",
    "\n",
    "# add label names\n",
    "ax.set_xlabel('Solve Rate')\n",
    "\n",
    "# add percentage symbol to x ticks\n",
    "ax.set_xticklabels([str(int(x)) + '%' for x in ax.get_xticks()])\n",
    "\n",
    "# add title\n",
    "ax.set_title('Distribution of Solve Rates')\n",
    "\n",
    "# make fonts bigger\n",
    "ax.tick_params(labelsize=14)\n",
    "ax.title.set_fontsize(16)\n",
    "ax.xaxis.label.set_fontsize(14)\n",
    "ax.yaxis.label.set_fontsize(14)\n",
    "\n",
    "# make the red one smaller\n",
    "ax.get_xticklabels()[-1].set_fontsize(13)\n",
    "\n",
    "# make ticks angled\n",
    "for tick in ax.get_xticklabels():\n",
    "    tick.set_rotation(45)\n",
    "\n",
    "# save as pdf\n",
    "plt.savefig('figures/eda_solve_rate_boxplot.pdf', bbox_inches='tight')"
   ]
  },
  {
   "cell_type": "code",
   "execution_count": 312,
   "metadata": {},
   "outputs": [
    {
     "data": {
      "image/png": "[encoded data removed]",
      "text/plain": [
       "<Figure size 360x72 with 1 Axes>"
      ]
     },
     "metadata": {
      "needs_background": "light"
     },
     "output_type": "display_data"
    }
   ],
   "source": [
    "# analogues plot for attempts\n",
    "fig, ax = plt.subplots(figsize=(5, 1))\n",
    "sns.boxplot(x='attempts', data=df.sort_values(by='solve_rate', ascending=False), orient='h', ax=ax,\n",
    "showmeans=True, meanprops={'marker':'o', 'markerfacecolor':'red', 'markeredgecolor':'red'})\n",
    "\n",
    "# remove first tick\n",
    "ax.set_xticks(ax.get_xticks()[1:])\n",
    "\n",
    "# add tick for the mean in red\n",
    "ax.set_xticks(np.append(ax.get_xticks(), df['attempts'].mean()))\n",
    "\n",
    "# make it red\n",
    "ax.get_xticklabels()[-1].set_color('red')\n",
    "\n",
    "# add label names\n",
    "ax.set_xlabel('Attempts')\n",
    "\n",
    "# add title\n",
    "ax.set_title('Attempts Distribution')\n",
    "\n",
    "# make fonts bigger\n",
    "ax.tick_params(labelsize=14)\n",
    "ax.title.set_fontsize(16)\n",
    "ax.xaxis.label.set_fontsize(14)\n",
    "ax.yaxis.label.set_fontsize(14)\n",
    "\n",
    "# make the red one smaller\n",
    "ax.get_xticklabels()[-1].set_fontsize(13)\n",
    "\n",
    "# make ticks angled\n",
    "for tick in ax.get_xticklabels():\n",
    "    tick.set_rotation(45)\n",
    "\n",
    "\n",
    "\n",
    "# save as pdf\n",
    "plt.savefig('figures/eda_attempts_boxplot.pdf', bbox_inches='tight')\n",
    "\n"
   ]
  },
  {
   "cell_type": "code",
   "execution_count": 313,
   "metadata": {},
   "outputs": [
    {
     "data": {
      "image/png": "[encoded data removed]",
      "text/plain": [
       "<Figure size 360x72 with 1 Axes>"
      ]
     },
     "metadata": {
      "needs_background": "light"
     },
     "output_type": "display_data"
    }
   ],
   "source": [
    "# analogues plot for mystery_word_count\n",
    "fig, ax = plt.subplots(figsize=(5, 1))\n",
    "sns.boxplot(x='mystery_word_count', data=df.sort_values(by='solve_rate', ascending=False), orient='h', ax=ax,\n",
    "showmeans=True, meanprops={'marker':'o', 'markerfacecolor':'red', 'markeredgecolor':'red'})\n",
    "\n",
    "# add tick for the mean in red\n",
    "ax.set_xticks(np.append(ax.get_xticks(), df['mystery_word_count'].mean()))\n",
    "\n",
    "# remove tick with index 3\n",
    "ax.set_xticks(ax.get_xticks()[[i for i in range(len(ax.get_xticks())) if i != 3]])\n",
    "\n",
    "# make it red\n",
    "ax.get_xticklabels()[-1].set_color('red')\n",
    "\n",
    "# add label names\n",
    "ax.set_xlabel('Mystery Word Count')\n",
    "\n",
    "# add title\n",
    "ax.set_title('Mystery Word Count Distribution')\n",
    "\n",
    "# make fonts bigger\n",
    "ax.tick_params(labelsize=14)\n",
    "ax.title.set_fontsize(16)\n",
    "ax.xaxis.label.set_fontsize(14)\n",
    "ax.yaxis.label.set_fontsize(14)\n",
    "\n",
    "# make the red one smaller\n",
    "ax.get_xticklabels()[-1].set_fontsize(13)\n",
    "\n",
    "# make ticks angled\n",
    "for tick in ax.get_xticklabels():\n",
    "    tick.set_rotation(45)\n",
    "\n",
    "# save as pdf\n",
    "plt.savefig('figures/eda_mystery_word_count_boxplot.pdf', bbox_inches='tight')"
   ]
  },
  {
   "cell_type": "code",
   "execution_count": 314,
   "metadata": {},
   "outputs": [
    {
     "data": {
      "image/png": "[encoded data removed]",
      "text/plain": [
       "<Figure size 360x72 with 1 Axes>"
      ]
     },
     "metadata": {
      "needs_background": "light"
     },
     "output_type": "display_data"
    }
   ],
   "source": [
    "# analogues plot for outcome_word_count\n",
    "fig, ax = plt.subplots(figsize=(5, 1))\n",
    "sns.boxplot(x='outcome_word_count', data=df.sort_values(by='solve_rate', ascending=False), orient='h', ax=ax,\n",
    "showmeans=True, meanprops={'marker':'o', 'markerfacecolor':'red', 'markeredgecolor':'red'})\n",
    "\n",
    "# add tick for the mean in red\n",
    "ax.set_xticks(np.append(ax.get_xticks(), df['outcome_word_count'].mean()))\n",
    "\n",
    "# remove tick with index 3\n",
    "ax.set_xticks(ax.get_xticks()[[i for i in range(len(ax.get_xticks())) if i != 3]])\n",
    "\n",
    "# make it red\n",
    "ax.get_xticklabels()[-1].set_color('red')\n",
    "\n",
    "# add label names\n",
    "ax.set_xlabel('Solution Word Count')\n",
    "\n",
    "# add title\n",
    "ax.set_title('Solution Word Count Distribution')\n",
    "\n",
    "# make fonts bigger\n",
    "ax.tick_params(labelsize=14)\n",
    "ax.title.set_fontsize(16)\n",
    "ax.xaxis.label.set_fontsize(14)\n",
    "ax.yaxis.label.set_fontsize(14)\n",
    "\n",
    "# make the red one smaller\n",
    "ax.get_xticklabels()[-1].set_fontsize(13)\n",
    "\n",
    "# make ticks angled\n",
    "for tick in ax.get_xticklabels():\n",
    "    tick.set_rotation(45)\n",
    "\n",
    "# save as pdf\n",
    "plt.savefig('figures/eda_outcome_word_count_boxplot.pdf', bbox_inches='tight')"
   ]
  },
  {
   "cell_type": "code",
   "execution_count": 329,
   "metadata": {},
   "outputs": [
    {
     "name": "stdout",
     "output_type": "stream",
     "text": [
      "case_name                                          The Easter Egg Mystery\n",
      "case_url                https://www.5minutemystery.com/mystery/the-eas...\n",
      "author_name                                                    Tom Fowler\n",
      "author_url                  https://www.5minutemystery.com/author/tfowler\n",
      "attempts                                                             1871\n",
      "solve_rate                                                           60.8\n",
      "mystery_text            Karen Sheldon had loved Easter egg hunts ever ...\n",
      "answer_options          (a) Anna; (b) Cole; (c) Justin; (d) Lizzie; (e...\n",
      "answer                                                         (d) Lizzie\n",
      "outcome                 Good naturedly, Karla exclaimed, “How do you k...\n",
      "answer_options_count                                                    5\n",
      "mystery_text_length                                                   669\n",
      "mystery_word_count                                                    669\n",
      "outcome_word_count                                                    327\n",
      "Name: 48, dtype: object\n"
     ]
    }
   ],
   "source": [
    "# print text of the most attempted puzzle under 650 words\n",
    "print(df[df['mystery_word_count'] < 700].sort_values(by='attempts', ascending=False).iloc[0])\n",
    "\n"
   ]
  },
  {
   "cell_type": "code",
   "execution_count": 338,
   "metadata": {},
   "outputs": [
    {
     "name": "stdout",
     "output_type": "stream",
     "text": [
      "“You'll like it here,” said Debra. “Everything is a mystery.” Before I could digest the mystique of the mansion in front of me, or the height of its white columns, a gloomy butler swung open the door: “I heard your voices,” he barked. I gasped and swallowed my breath. Debra tried to mask her amusement and smiled at me, reassuringly: “You're just not used to rich people,” she said, pushing me forward. The butler, and the scowl on his face, led us down a long hallway where large statues of famous poets lined the walls: “Are they watching us?” I joked. Debra ignored my nervous sarcasm, thanked the butler cheerfully, and signaled me to follow her to the den. “My father's friends meet here every month,” she whispered. “And they play a very strange game.” Echoes from our own footsteps had me on edge as we made our way to a super-sized wooden door. Debra tapped on it playfully, and I held my breath. The hinges wept and moaned as the enormous door chiseled open, revealing a strange man who was noticeably short and very old. His bald head was almost shiny, and he donned an expensive, grey suit with an ugly tie. It had three different colors: purple, orange, and green. “You look awful!” he said to Debra.” She laughed and gave him a hug. “Is this your father?” I asked. “No!” he said quickly. And Debra laughed again. She had promised to introduce her father to the man who solved mysteries, and I'd been nervously anticipating the meeting all night. “I wonder how long it will take him to figure it out,” Debra giggled. I saw a long banner hanging on the wall. It had large red letters, celebrating the group who was arriving tonight: “The Liar's Club.” The realization kicked in: everything they'd said was a lie; that was the whole catch. I was ready to beat them at their own game. “You do look awful, Debra,” I said. “And your father is a real jerk!” They cheered and laughed, as we walked inside the room. Below the banner was a long table filled with sandwiches and desserts. The man and woman at the opposite side of the room acknowledged our presence with a head nod before returning to their conversation. One of them weighed over 300 pounds. “I hate these sandwiches,” the large man said, smiling. He took a big bite: “Especially the ones with mustard.” He wiped some mustard off his cheek, and then joyfully took another bite. The butler shuffled in, moving so carefully that his patent leather shoes never left the ground. He was carrying a large glass bowl, which was almost filled to the top with punch. I eyed it like a liquid treasure and licked my lips. My mouth was dry from all the gasps and gulps this place was bringing out of me. He was beginning to look like a circus juggler, making this a more difficult task than it should have been ― but my thirst controlled my thoughts. Maybe his gloves gave him less of a grip. He made it to the table, victorious, and released the bowl without spilling a drop. I moved quickly and poured myself a glass. Luke, who was still stuffing his face, watched me take down the whole cup in one gulp before he directed his attention back to the woman next to him. “You don't need to lose any weight,” she said solemnly. “You're the healthiest man I've ever seen!” Luke's eyes seemed to laugh, and he continued chewing vigorously. His fingers were hardly visible under the mustard that covered his hands. He flexed and I watch a glob just miss the woman. Flexing, he declared, “And the strongest!” The woman’s name was Olivia, and she was wearing an expensive diamond bracelet that rattled when she moved her hands. Olivia's dress was expensive; it bared her shoulders, and looked very comfortable. “I never have any fun when I come here,” she said to Debra. “Never any fun at all!” Both of them laughed as though they'd been friends for years. “Your father's tie is gorgeous,” she said. And they both laughed again. The mood changed quickly when Olivia pointed ominously to a marble pedestal at the center of the room. It displayed a glass box filled with dice. There were seven dice in the box, and each one was positioned to have rolled a six. “ There's not a story about those dice,” she confided to Debra. “And it's not the reason we gather here every month.” Debra had never heard the story, so we huddled around the display case, gawking at it in dazed silence ― and then the room went black. It seemed like a temporary power outage, and I waited for the lights to turn back on . The room became denser...colder. I fumbled for Debra’s hand, interlocking my fingers with hers. The whole mansion was listening to our silence. The walls seemed more alive than the people ― until someone broke the tension: “I can see perfectly,” Olivia joked. “Me too,” said Luke. It sounded like he was still eating. When the lights came back on, we saw a startling sight: the display case was empty ― and all the dice were gone! We stared in disbelief, and Debra's father looked horrified. Though the dice were worth very little, they had been in his family for more than one hundred years. They had a special significance to her father, and they were the emblem and livelihood of The Liar's Club. Sadly, he told the sentimental story behind the dice one last time, as his butler rearranged the sandwiches. His uncle had been a young man who needed to earn some money. But instead, he'd met a gambler who had challenged him to roll seven sixes. We listened on, intently. His uncle knew it was nearly impossible to roll seven dice and have a six come up on every single one, but he'd shaken the dice and tossed them onto the ground. And for every single one, believe it or not, he rolled a six. “The dice weren't rigged,” her father said with a grin. “He didn't weight down one side so they'd always roll a six.” He laughed uncontrollably. “His uncle had bought the dice, and they'd always made him feel hopeful, or lucky, during difficult times.” He released a long sigh, which was followed by a startled look: “Wait a minute,” he said, looking at me. “You don't solve mysteries, do you?” I pondered whether I should answer yes or no, and he angrily shouted at his guests: “Who stole my uncle's dice?” “I did!” said Olivia. “I did!” said Luke. “I did!” said Debra. And now her father was even more agitated. I held up a hand, signaling that I'd solve the crime. But looking around the room, I couldn't find a single clue. There weren't any obvious footprints on the floor, and the glass case was completely spotless. There were no suspicious fingerprints on the light switch by the door, and nothing had changed after the lights came back on. There was the table, still filled with food, and the \"Liar's Club\" banner still draped the wall. “Did the butler do it?” Olivia said playfully. She'd read several mystery books where the man behind the crime turned out to be a sneaky butler. “Your dice weren't so lucky tonight,” Luke joked. “Er, I mean they were lucky tonight. I mean ―.” “Cut it out,” Debra's father said impatiently. “I'm tired of playing games, and I want my dice back!” Sarcasm turned to shock in the room. They'd never heard him make a statement that wasn't a lie. Debra's father had broken the rules. I was feeling impatient, too. “Listen up, Liar's Club,\" I said, carefully choosing my words so they'd understand. “I don't know who stole your dice. And I'm not going to identify the thief now...\"\n"
     ]
    }
   ],
   "source": [
    "# print answer options\n",
    "print(df[df['mystery_word_count'] < 1900].sort_values(by='attempts', ascending=False).iloc[20]['mystery_text'])"
   ]
  },
  {
   "cell_type": "code",
   "execution_count": 340,
   "metadata": {},
   "outputs": [
    {
     "name": "stdout",
     "output_type": "stream",
     "text": [
      "2041\n"
     ]
    }
   ],
   "source": [
    "# what is the largest story (in words)?\n",
    "print(df['mystery_word_count'].max())"
   ]
  },
  {
   "cell_type": "code",
   "execution_count": 328,
   "metadata": {},
   "outputs": [
    {
     "name": "stdout",
     "output_type": "stream",
     "text": [
      "Karen Sheldon had loved Easter egg hunts ever since she was a little girl. That is why she eagerly volunteered to assist with this year’s Hunt for the children at her church. This year, the Children’s Day Out mothers decided to do something different. Because there were so many children of all ages in the congregation, they split the hunt up into age groups. Karen’s job was to oversee several of the 6-10 year olds. Within her group were five children she knew well. They were Rachel Smithson, whose mother Karla had volunteered to help a very grateful Karen, Justin Bates, a classmate of Rachel’s, Karen’s daughter Lizzie, Lizzie’s best friend Anna Laughlin and Cole Bryant, who was also the Sheldon’s next door neighbor. The Easter egg hunt was on Saturday morning, the day before Easter Sunday. It was held in the large field in back of the church. Karen and Karla were grateful that today was sunny and warm although it was a bit windy. Karen was excited as the children prepared for the hunt, which was to begin at 10:00 am and last for one hour. Just before the start whistle blew, Karen told the children, “I have placed a golden Easter egg in our hunting area. There is an extra bag of candy for the child who finds it.” Only Karla and she knew that the golden egg was placed in back of the largest tree in the field, an old oak in the far corner to the left of where she and the children now stood and an area dedicated to the 6-10 year old age group. During the hunt, Karen and Karla visited while they watched the egg hunt. During the hunt, Karen noticed that Cole stayed focused on the evergreen shrubbery in the middle of the field, finding several eggs there, much to his delight. Karen was amused when Rachel ran to her mother and told her, “I have found a lot of eggs. I’m heading back to the rock pile. I bet I will find the golden egg there!” The rock pile was to the right of the evergreen shrubbery. In the middle of the hunt, Karen excused herself to go inside the church to get a drink of water and sit for a few minutes. When she returned, Karla told her, “I had to run over and warn Lizzie to be careful of the dead branches on the big oak tree. One of them fell last week, hitting one of the older kids.” As the hunt began to wind down, Karla walked out to speak with a very agitated Anna. After returning to Karen, she told her, “Anna is upset because she has found only a few eggs. I told her to keep looking; there are still a few minutes to go.” Karen noticed that Anna stayed close to Karla for the remainder of the hunt. As the whistle blew to end the hunt, Karen walked to the center of the field to wave Justin back in. He was in the far right corner of the field, where he had been for the entire hunt. There was a sand pit in that area and Justin found several eggs there. As the kids headed back to the start area, Karen once again excused herself to go inside. The wind had blown a speck of dust in her eye when waving Justin down and it was very painful. When she returned from rinsing her eyes, Karla and the five children were smiling at her. She asked, “What’s up?” Karla answered, “One of our kids found the golden egg. We want you to guess which one.” Karen smiled in return, saying, “So that’s it!” Thinking for a moment, she said, “I only have one question. When I was inside the first time, did any of the children move from one side of the field to another?” Karla answered, “No.” Karen tousled Justin’s hair and said, “Good. Then I know who has the golden egg!”\n"
     ]
    }
   ],
   "source": [
    "# print text of the most attempted puzzle under 650 words\n",
    "print(df[df['mystery_word_count'] < 700].sort_values(by='attempts', ascending=False)['mystery_text'].iloc[0])\n"
   ]
  },
  {
   "cell_type": "code",
   "execution_count": 318,
   "metadata": {},
   "outputs": [
    {
     "data": {
      "text/html": [
       "<div>\n",
       "<style scoped>\n",
       "    .dataframe tbody tr th:only-of-type {\n",
       "        vertical-align: middle;\n",
       "    }\n",
       "\n",
       "    .dataframe tbody tr th {\n",
       "        vertical-align: top;\n",
       "    }\n",
       "\n",
       "    .dataframe thead th {\n",
       "        text-align: right;\n",
       "    }\n",
       "</style>\n",
       "<table border=\"1\" class=\"dataframe\">\n",
       "  <thead>\n",
       "    <tr style=\"text-align: right;\">\n",
       "      <th></th>\n",
       "      <th>case_name</th>\n",
       "      <th>case_url</th>\n",
       "      <th>author_name</th>\n",
       "      <th>author_url</th>\n",
       "      <th>attempts</th>\n",
       "      <th>solve_rate</th>\n",
       "      <th>mystery_text</th>\n",
       "      <th>answer_options</th>\n",
       "      <th>answer</th>\n",
       "      <th>outcome</th>\n",
       "      <th>answer_options_count</th>\n",
       "      <th>mystery_text_length</th>\n",
       "      <th>mystery_word_count</th>\n",
       "      <th>outcome_word_count</th>\n",
       "    </tr>\n",
       "  </thead>\n",
       "  <tbody>\n",
       "    <tr>\n",
       "      <th>48</th>\n",
       "      <td>The Easter Egg Mystery</td>\n",
       "      <td>https://www.5minutemystery.com/mystery/the-eas...</td>\n",
       "      <td>Tom Fowler</td>\n",
       "      <td>https://www.5minutemystery.com/author/tfowler</td>\n",
       "      <td>1871</td>\n",
       "      <td>60.8</td>\n",
       "      <td>Karen Sheldon had loved Easter egg hunts ever ...</td>\n",
       "      <td>(a) Anna; (b) Cole; (c) Justin; (d) Lizzie; (e...</td>\n",
       "      <td>(d) Lizzie</td>\n",
       "      <td>Good naturedly, Karla exclaimed, “How do you k...</td>\n",
       "      <td>5</td>\n",
       "      <td>669</td>\n",
       "      <td>669</td>\n",
       "      <td>327</td>\n",
       "    </tr>\n",
       "    <tr>\n",
       "      <th>65</th>\n",
       "      <td>Riddle of the Confederate Spy</td>\n",
       "      <td>https://www.5minutemystery.com/mystery/riddle-...</td>\n",
       "      <td>Moe Zilla</td>\n",
       "      <td>https://www.5minutemystery.com/author/mzilla</td>\n",
       "      <td>1669</td>\n",
       "      <td>61.1</td>\n",
       "      <td>Cannons fired in Maryland, as 45,000 Confedera...</td>\n",
       "      <td>(a) Garrett; (b) McMurty; (c) Parker; (d) Winslow</td>\n",
       "      <td>(c) Parker</td>\n",
       "      <td>“I know it isn't McMurty,” said Sergeant Stoke...</td>\n",
       "      <td>4</td>\n",
       "      <td>690</td>\n",
       "      <td>690</td>\n",
       "      <td>510</td>\n",
       "    </tr>\n",
       "    <tr>\n",
       "      <th>123</th>\n",
       "      <td>A Thanksgiving Mystery Poem</td>\n",
       "      <td>https://www.5minutemystery.com/mystery/a-thank...</td>\n",
       "      <td>Moe Zilla</td>\n",
       "      <td>https://www.5minutemystery.com/author/mzilla</td>\n",
       "      <td>805</td>\n",
       "      <td>35.8</td>\n",
       "      <td>For Thanksgiving, try this game.\\nFind the gui...</td>\n",
       "      <td>(a) Libby; (b) Rusty; (c) Tiny; (d) Tom</td>\n",
       "      <td>(b) Rusty</td>\n",
       "      <td>\"Though the guilty one would hide\\nthey'll soo...</td>\n",
       "      <td>4</td>\n",
       "      <td>698</td>\n",
       "      <td>698</td>\n",
       "      <td>234</td>\n",
       "    </tr>\n",
       "    <tr>\n",
       "      <th>21</th>\n",
       "      <td>Where is Matthew?</td>\n",
       "      <td>https://www.5minutemystery.com/mystery/where-i...</td>\n",
       "      <td>Tom Fowler</td>\n",
       "      <td>https://www.5minutemystery.com/author/tfowler</td>\n",
       "      <td>2647</td>\n",
       "      <td>58.9</td>\n",
       "      <td>Five -year- old Andy, (5 1/2, as he would tell...</td>\n",
       "      <td>(a) Andy's bedroom; (b) Matthew's bedroom; (c)...</td>\n",
       "      <td>(e) The tree house</td>\n",
       "      <td>When they had retrieved the giggling Matthew f...</td>\n",
       "      <td>5</td>\n",
       "      <td>722</td>\n",
       "      <td>722</td>\n",
       "      <td>264</td>\n",
       "    </tr>\n",
       "    <tr>\n",
       "      <th>185</th>\n",
       "      <td>The Cornfield Caper</td>\n",
       "      <td>https://www.5minutemystery.com/mystery/the-cor...</td>\n",
       "      <td>Brad Marsh</td>\n",
       "      <td>https://www.5minutemystery.com/author/dottertr...</td>\n",
       "      <td>12140</td>\n",
       "      <td>71.4</td>\n",
       "      <td>Joe Farmer walked aimlessly through the freshl...</td>\n",
       "      <td>(a) Austin; (b) Billy; (c) Nick</td>\n",
       "      <td>(b) Billy</td>\n",
       "      <td>\"Billy!\" Joe said. \"Give it back.\"\\n\"What do y...</td>\n",
       "      <td>3</td>\n",
       "      <td>734</td>\n",
       "      <td>734</td>\n",
       "      <td>113</td>\n",
       "    </tr>\n",
       "  </tbody>\n",
       "</table>\n",
       "</div>"
      ],
      "text/plain": [
       "                         case_name  \\\n",
       "48          The Easter Egg Mystery   \n",
       "65   Riddle of the Confederate Spy   \n",
       "123    A Thanksgiving Mystery Poem   \n",
       "21               Where is Matthew?   \n",
       "185            The Cornfield Caper   \n",
       "\n",
       "                                              case_url author_name  \\\n",
       "48   https://www.5minutemystery.com/mystery/the-eas...  Tom Fowler   \n",
       "65   https://www.5minutemystery.com/mystery/riddle-...   Moe Zilla   \n",
       "123  https://www.5minutemystery.com/mystery/a-thank...   Moe Zilla   \n",
       "21   https://www.5minutemystery.com/mystery/where-i...  Tom Fowler   \n",
       "185  https://www.5minutemystery.com/mystery/the-cor...  Brad Marsh   \n",
       "\n",
       "                                            author_url  attempts  solve_rate  \\\n",
       "48       https://www.5minutemystery.com/author/tfowler      1871        60.8   \n",
       "65        https://www.5minutemystery.com/author/mzilla      1669        61.1   \n",
       "123       https://www.5minutemystery.com/author/mzilla       805        35.8   \n",
       "21       https://www.5minutemystery.com/author/tfowler      2647        58.9   \n",
       "185  https://www.5minutemystery.com/author/dottertr...     12140        71.4   \n",
       "\n",
       "                                          mystery_text  \\\n",
       "48   Karen Sheldon had loved Easter egg hunts ever ...   \n",
       "65   Cannons fired in Maryland, as 45,000 Confedera...   \n",
       "123  For Thanksgiving, try this game.\\nFind the gui...   \n",
       "21   Five -year- old Andy, (5 1/2, as he would tell...   \n",
       "185  Joe Farmer walked aimlessly through the freshl...   \n",
       "\n",
       "                                        answer_options              answer  \\\n",
       "48   (a) Anna; (b) Cole; (c) Justin; (d) Lizzie; (e...          (d) Lizzie   \n",
       "65   (a) Garrett; (b) McMurty; (c) Parker; (d) Winslow          (c) Parker   \n",
       "123            (a) Libby; (b) Rusty; (c) Tiny; (d) Tom           (b) Rusty   \n",
       "21   (a) Andy's bedroom; (b) Matthew's bedroom; (c)...  (e) The tree house   \n",
       "185                    (a) Austin; (b) Billy; (c) Nick           (b) Billy   \n",
       "\n",
       "                                               outcome  answer_options_count  \\\n",
       "48   Good naturedly, Karla exclaimed, “How do you k...                     5   \n",
       "65   “I know it isn't McMurty,” said Sergeant Stoke...                     4   \n",
       "123  \"Though the guilty one would hide\\nthey'll soo...                     4   \n",
       "21   When they had retrieved the giggling Matthew f...                     5   \n",
       "185  \"Billy!\" Joe said. \"Give it back.\"\\n\"What do y...                     3   \n",
       "\n",
       "     mystery_text_length  mystery_word_count  outcome_word_count  \n",
       "48                   669                 669                 327  \n",
       "65                   690                 690                 510  \n",
       "123                  698                 698                 234  \n",
       "21                   722                 722                 264  \n",
       "185                  734                 734                 113  "
      ]
     },
     "execution_count": 318,
     "metadata": {},
     "output_type": "execute_result"
    }
   ],
   "source": [
    "# top 5 shortest mysteries\n",
    "df.sort_values(by='mystery_word_count').head(5)\n"
   ]
  }
 ],
 "metadata": {
  "kernelspec": {
   "display_name": "Python 3.10.4 ('minirl')",
   "language": "python",
   "name": "python3"
  },
  "language_info": {
   "codemirror_mode": {
    "name": "ipython",
    "version": 3
   },
   "file_extension": ".py",
   "mimetype": "text/x-python",
   "name": "python",
   "nbconvert_exporter": "python",
   "pygments_lexer": "ipython3",
   "version": "3.10.4 | packaged by conda-forge | (main, Mar 30 2022, 08:38:02) [MSC v.1916 64 bit (AMD64)]"
  },
  "orig_nbformat": 4,
  "vscode": {
   "interpreter": {
    "hash": "7ae41c531dae388d432c578af6f2c159705b5a45abf954f5c43dd5cfbfe0fa12"
   }
  }
 },
 "nbformat": 4,
 "nbformat_minor": 2
}
