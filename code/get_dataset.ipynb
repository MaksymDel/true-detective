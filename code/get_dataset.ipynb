{
 "cells": [
  {
   "cell_type": "code",
   "execution_count": null,
   "metadata": {},
   "outputs": [],
   "source": [
    "# libs: splinter, bs4, requests"
   ]
  },
  {
   "cell_type": "code",
   "execution_count": 2,
   "metadata": {},
   "outputs": [],
   "source": [
    "import requests\n",
    "from bs4 import BeautifulSoup\n",
    "import pandas as pd\n",
    "from splinter import Browser"
   ]
  },
  {
   "cell_type": "markdown",
   "metadata": {},
   "source": [
    "# Gel list of all cases and solve rates"
   ]
  },
  {
   "cell_type": "code",
   "execution_count": null,
   "metadata": {},
   "outputs": [],
   "source": [
    "def parse_case_links(links):\n",
    "    urls = []\n",
    "    names = []\n",
    "    for link in links:\n",
    "        url = link.get(\"href\")\n",
    "        if url.startswith(\"/mystery/\"):\n",
    "            urls.append(url)\n",
    "            names.append(link.text)\n",
    "    return urls, names"
   ]
  },
  {
   "cell_type": "code",
   "execution_count": null,
   "metadata": {},
   "outputs": [],
   "source": [
    "def parse_author_links(links):\n",
    "    urls = []\n",
    "    names = []\n",
    "    for link in links:\n",
    "        url = link.get(\"href\")\n",
    "        if url.startswith(\"/author/\"):\n",
    "            urls.append(url)\n",
    "            names.append(link.text)\n",
    "    return urls, names"
   ]
  },
  {
   "cell_type": "code",
   "execution_count": null,
   "metadata": {},
   "outputs": [],
   "source": [
    "num_pages = 48"
   ]
  },
  {
   "cell_type": "code",
   "execution_count": null,
   "metadata": {},
   "outputs": [],
   "source": [
    "all_case_urls = []\n",
    "all_case_names = []\n",
    "all_author_urls = []\n",
    "all_author_names = []\n",
    "all_attempts = []\n",
    "all_solve_rates = []\n",
    "\n",
    "\n",
    "for pn in range(1, num_pages+1):\n",
    "    print(\"Page number: \", pn)\n",
    "    URL = f\"https://www.5minutemystery.com/archives?page={pn}&type=&keywords=\"\n",
    "    page = requests.get(URL)\n",
    "    soup = BeautifulSoup(page.content, \"html.parser\")\n",
    "\n",
    "    table = soup.find(lambda tag: tag.name=='table')\n",
    "    all_hyperlinks = table.find_all(\"a\")\n",
    "    case_urls, case_names = parse_case_links(all_hyperlinks)\n",
    "    author_urls, author_names = parse_author_links(all_hyperlinks)\n",
    "    attempts = table.findAll(\"td\", class_=\"num hidden-phone\")\n",
    "    solve_rates = table.findAll(\"td\", class_=\"num\")\n",
    "\n",
    "    all_case_urls.extend(case_urls)\n",
    "    all_case_names.extend(case_names)\n",
    "    all_author_urls.extend(author_urls)\n",
    "    all_author_names.extend(author_names)\n",
    "    all_attempts.extend(attempts)\n",
    "    all_solve_rates.extend(solve_rates)"
   ]
  },
  {
   "cell_type": "code",
   "execution_count": null,
   "metadata": {},
   "outputs": [],
   "source": [
    "# fix solve rates\n",
    "# we only need to take every other solve rate\n",
    "# because the first solve rate is the number of attempts\n",
    "# and the second solve rate is the percentage of solve rate\n",
    "all_solve_rates = all_solve_rates[1::2]"
   ]
  },
  {
   "cell_type": "code",
   "execution_count": null,
   "metadata": {},
   "outputs": [],
   "source": [
    "# get text from attemts and solve rates\n",
    "all_attempts = [attempt.text for attempt in all_attempts]\n",
    "all_solve_rates = [solve_rate.text for solve_rate in all_solve_rates]"
   ]
  },
  {
   "cell_type": "code",
   "execution_count": null,
   "metadata": {},
   "outputs": [],
   "source": [
    "# parse comma seprated numbers in attempts to ints\n",
    "all_attempts = [int(attempt.replace(\",\", \"\")) for attempt in all_attempts]\n",
    "\n",
    "# parse percentage to floats in solve rates\n",
    "all_solve_rates = [float(solve_rate.replace(\"%\", \"\")) for solve_rate in all_solve_rates]"
   ]
  },
  {
   "cell_type": "code",
   "execution_count": null,
   "metadata": {},
   "outputs": [],
   "source": [
    "# save lsits to csv\n",
    "\n",
    "df = pd.DataFrame({\"case_url\": all_case_urls, \"case_name\": all_case_names, \"author_url\": all_author_urls, \"author_name\": all_author_names, \"attempts\": all_attempts, \"solve_rate\": all_solve_rates})\n",
    "# drop duplicates where case_url are the same\n",
    "df = df.drop_duplicates(subset=\"case_url\")"
   ]
  },
  {
   "cell_type": "code",
   "execution_count": 6,
   "metadata": {},
   "outputs": [],
   "source": [
    "# add https://www.5minutemystery.com to each case_url and author_url in dataframe\n",
    "df['case_url'] = 'https://www.5minutemystery.com' + df['case_url']\n",
    "df['author_url'] = 'https://www.5minutemystery.com' + df['author_url']"
   ]
  },
  {
   "cell_type": "code",
   "execution_count": 7,
   "metadata": {},
   "outputs": [],
   "source": [
    "df.to_csv(\"links.csv\", index=False)"
   ]
  },
  {
   "cell_type": "code",
   "execution_count": 8,
   "metadata": {},
   "outputs": [],
   "source": [
    "# read links.csv\n",
    "df = pd.read_csv(\"links.csv\")"
   ]
  },
  {
   "cell_type": "code",
   "execution_count": 9,
   "metadata": {},
   "outputs": [
    {
     "data": {
      "text/plain": [
       "191"
      ]
     },
     "execution_count": 9,
     "metadata": {},
     "output_type": "execute_result"
    }
   ],
   "source": [
    "len(df)"
   ]
  },
  {
   "cell_type": "code",
   "execution_count": 10,
   "metadata": {},
   "outputs": [
    {
     "data": {
      "text/html": [
       "<div>\n",
       "<style scoped>\n",
       "    .dataframe tbody tr th:only-of-type {\n",
       "        vertical-align: middle;\n",
       "    }\n",
       "\n",
       "    .dataframe tbody tr th {\n",
       "        vertical-align: top;\n",
       "    }\n",
       "\n",
       "    .dataframe thead th {\n",
       "        text-align: right;\n",
       "    }\n",
       "</style>\n",
       "<table border=\"1\" class=\"dataframe\">\n",
       "  <thead>\n",
       "    <tr style=\"text-align: right;\">\n",
       "      <th></th>\n",
       "      <th>case_url</th>\n",
       "      <th>case_name</th>\n",
       "      <th>author_url</th>\n",
       "      <th>author_name</th>\n",
       "      <th>attempts</th>\n",
       "      <th>solve_rate</th>\n",
       "    </tr>\n",
       "  </thead>\n",
       "  <tbody>\n",
       "    <tr>\n",
       "      <th>0</th>\n",
       "      <td>https://www.5minutemystery.com/mystery/sweat-i...</td>\n",
       "      <td>Sweat it Out</td>\n",
       "      <td>https://www.5minutemystery.com/author/mysteryman</td>\n",
       "      <td>Nick Andreychuk</td>\n",
       "      <td>1200</td>\n",
       "      <td>39.4</td>\n",
       "    </tr>\n",
       "    <tr>\n",
       "      <th>1</th>\n",
       "      <td>https://www.5minutemystery.com/mystery/mystery...</td>\n",
       "      <td>Mystery of the Missing Heart</td>\n",
       "      <td>https://www.5minutemystery.com/author/mike_wever</td>\n",
       "      <td>Mike Wever</td>\n",
       "      <td>3274</td>\n",
       "      <td>65.1</td>\n",
       "    </tr>\n",
       "    <tr>\n",
       "      <th>2</th>\n",
       "      <td>https://www.5minutemystery.com/mystery/stealin...</td>\n",
       "      <td>Stealing Second Base</td>\n",
       "      <td>https://www.5minutemystery.com/author/BillShepard</td>\n",
       "      <td>William Shepard</td>\n",
       "      <td>1452</td>\n",
       "      <td>57.0</td>\n",
       "    </tr>\n",
       "    <tr>\n",
       "      <th>3</th>\n",
       "      <td>https://www.5minutemystery.com/mystery/murder-...</td>\n",
       "      <td>Murder in the Old House</td>\n",
       "      <td>https://www.5minutemystery.com/author/tfowler</td>\n",
       "      <td>Tom Fowler</td>\n",
       "      <td>4056</td>\n",
       "      <td>54.7</td>\n",
       "    </tr>\n",
       "    <tr>\n",
       "      <th>4</th>\n",
       "      <td>https://www.5minutemystery.com/mystery/the-che...</td>\n",
       "      <td>The Chess Mystery</td>\n",
       "      <td>https://www.5minutemystery.com/author/mzilla</td>\n",
       "      <td>Moe Zilla</td>\n",
       "      <td>2104</td>\n",
       "      <td>50.0</td>\n",
       "    </tr>\n",
       "  </tbody>\n",
       "</table>\n",
       "</div>"
      ],
      "text/plain": [
       "                                            case_url  \\\n",
       "0  https://www.5minutemystery.com/mystery/sweat-i...   \n",
       "1  https://www.5minutemystery.com/mystery/mystery...   \n",
       "2  https://www.5minutemystery.com/mystery/stealin...   \n",
       "3  https://www.5minutemystery.com/mystery/murder-...   \n",
       "4  https://www.5minutemystery.com/mystery/the-che...   \n",
       "\n",
       "                      case_name  \\\n",
       "0                  Sweat it Out   \n",
       "1  Mystery of the Missing Heart   \n",
       "2          Stealing Second Base   \n",
       "3       Murder in the Old House   \n",
       "4             The Chess Mystery   \n",
       "\n",
       "                                          author_url      author_name  \\\n",
       "0   https://www.5minutemystery.com/author/mysteryman  Nick Andreychuk   \n",
       "1   https://www.5minutemystery.com/author/mike_wever       Mike Wever   \n",
       "2  https://www.5minutemystery.com/author/BillShepard  William Shepard   \n",
       "3      https://www.5minutemystery.com/author/tfowler       Tom Fowler   \n",
       "4       https://www.5minutemystery.com/author/mzilla        Moe Zilla   \n",
       "\n",
       "   attempts  solve_rate  \n",
       "0      1200        39.4  \n",
       "1      3274        65.1  \n",
       "2      1452        57.0  \n",
       "3      4056        54.7  \n",
       "4      2104        50.0  "
      ]
     },
     "execution_count": 10,
     "metadata": {},
     "output_type": "execute_result"
    }
   ],
   "source": [
    "df.head()"
   ]
  },
  {
   "cell_type": "markdown",
   "metadata": {},
   "source": [
    "# Get puzzle texts and suspects lists"
   ]
  },
  {
   "cell_type": "code",
   "execution_count": 11,
   "metadata": {},
   "outputs": [],
   "source": [
    "df = pd.read_csv(\"links.csv\")"
   ]
  },
  {
   "cell_type": "code",
   "execution_count": 13,
   "metadata": {},
   "outputs": [],
   "source": [
    "browser = Browser('edge', headless=False)"
   ]
  },
  {
   "cell_type": "code",
   "execution_count": 14,
   "metadata": {},
   "outputs": [],
   "source": [
    "browser.visit(\"https://www.5minutemystery.com\")\n",
    "# Before proceedding sign in now manually with your login and password"
   ]
  },
  {
   "cell_type": "code",
   "execution_count": null,
   "metadata": {},
   "outputs": [],
   "source": [
    "suspects_from_dropdawn = True \n",
    "all_mystery_texts = []\n",
    "all_suspect_names = []\n",
    "for i, case_url in enumerate(df['case_url']):\n",
    "    full_url = f\"https://www.5minutemystery.com{case_url}\"\n",
    "    browser.visit(full_url)\n",
    "    browser.find_by_text('Attempt this mystery').click()\n",
    "    html = browser.html\n",
    "    soup = BeautifulSoup(html, 'html.parser')\n",
    "\n",
    "    if not suspects_from_dropdawn:\n",
    "        # get suspect names from the div with class section suspects\n",
    "        suspects = soup.find('div', class_='section suspects').find_all('span')[1:]\n",
    "        # get suspect names\n",
    "        suspect_names = []\n",
    "        for suspect in suspects:\n",
    "            suspect_names.append(suspect.text)\n",
    "    else:\n",
    "        browser.links.find_by_partial_text(\"Choose one\").click()\n",
    "        suspect_names = browser.find_by_css('ul.dropdown-menu li.suspect')\n",
    "        suspect_names = [s.text for s in suspect_names]\n",
    "\n",
    "    all_suspect_names.append(\"; \".join(suspect_names))\n",
    "\n",
    "    # get mistery text\n",
    "    mystery_text = soup.find('div', id='mystery-full').text.strip()\n",
    "    all_mystery_texts.append(mystery_text)\n",
    "\n",
    "    if i % 20 == 0:\n",
    "        print(f\"Done with {i} cases\")\n",
    "\n",
    "browser.quit()"
   ]
  },
  {
   "cell_type": "code",
   "execution_count": null,
   "metadata": {},
   "outputs": [],
   "source": [
    "# add suspect names and mistery texts to links dataframe\n",
    "df['answer_options'] = all_suspect_names\n",
    "df['mystery_text'] = all_mystery_texts"
   ]
  },
  {
   "cell_type": "code",
   "execution_count": 40,
   "metadata": {},
   "outputs": [],
   "source": [
    "# save as a new csv file\n",
    "df.to_csv('links_with_text.csv', index=False)"
   ]
  },
  {
   "cell_type": "markdown",
   "metadata": {},
   "source": [
    "# Fetch answers for each puzzle"
   ]
  },
  {
   "cell_type": "code",
   "execution_count": 3,
   "metadata": {},
   "outputs": [],
   "source": [
    "df = pd.read_csv('links_with_text.csv')"
   ]
  },
  {
   "cell_type": "code",
   "execution_count": null,
   "metadata": {},
   "outputs": [],
   "source": [
    "browser = Browser('edge', headless=False)"
   ]
  },
  {
   "cell_type": "code",
   "execution_count": null,
   "metadata": {},
   "outputs": [],
   "source": [
    "browser.visit(\"https://www.5minutemystery.com\")\n",
    "# Before proceedding sign in now manually with your login and password"
   ]
  },
  {
   "cell_type": "code",
   "execution_count": null,
   "metadata": {},
   "outputs": [],
   "source": [
    "# iterate over all raws in full dataframe to get a suspect_names and case_url\n",
    "\n",
    "all_guilty_suspects = []\n",
    "for index, row in df.iterrows():\n",
    "\n",
    "    # # skip non nan rows\n",
    "    if row[\"guilty_suspect\"] != \"NAN\":\n",
    "        continue\n",
    "\n",
    "    # get case_url\n",
    "    case_url = row['case_url']\n",
    "\n",
    "    # get suspect_names as a list\n",
    "    suspect_names = row['answer_options']\n",
    "    suspect_names = suspect_names.split(\"; \")\n",
    "\n",
    "    ###\n",
    "    guilty = \"NAN\"\n",
    "    for suspect_name in suspect_names:\n",
    "        # visit case_url\n",
    "        browser.visit(case_url)\n",
    "        browser.find_by_text('Attempt this mystery').click()\n",
    "        browser.links.find_by_partial_text(\"Choose one\").click()\n",
    "\n",
    "        try:\n",
    "            browser.links.find_by_partial_text(suspect_name).click()\n",
    "            browser.find_by_value(\"Solve this mystery!\").click()\n",
    "        except:\n",
    "            print(\"Could not find suspect_name: \", suspect_name, index)\n",
    "            continue\n",
    "\n",
    "        if len(browser.find_by_text(\"correct\")) > 0:\n",
    "            guilty = suspect_name\n",
    "            break\n",
    "    all_guilty_suspects.append(guilty)\n",
    "\n",
    "    # print index every 10 rows\n",
    "    if index % 10 == 0:\n",
    "        print(index)\n"
   ]
  },
  {
   "cell_type": "code",
   "execution_count": 54,
   "metadata": {},
   "outputs": [],
   "source": [
    "df['answer'] = all_guilty_suspects\n",
    "df.at[50, \"answer\"] = \"Washington, DC\" # instead of just Washington"
   ]
  },
  {
   "cell_type": "code",
   "execution_count": null,
   "metadata": {},
   "outputs": [],
   "source": [
    "# iterate over all mysteries\n",
    "for i, row in df.iterrows():\n",
    "    # split answer options by \";\"\n",
    "    suspects = row[\"answer_options\"].split(\"; \")\n",
    "    correct_suspect = row[\"answer\"]\n",
    "    correct_suspect_idx = suspects.index(correct_suspect)\n",
    "\n",
    "    # df[\"answer_options\"] is a \";\"-separated string of answer options\n",
    "    # the code below adds a number to each option\n",
    "    # e.g. \"Alang Edd; Max Crow; Sindy Elon\" -> \"(a) Alang Edd; (b) Max Crow; (c) Sindy Elon\"\n",
    "    # then it adds correct number to the df['answer'] column which is the correct answer\n",
    "    # e.g. \"Max Crow\" -> \"(b) Max Crow\"\n",
    "    suspects = [f\"({chr(ord('a') + i)}) {s}\" for i, s in enumerate(suspects)]\n",
    "    correct_suspect = f\"({chr(ord('a') + correct_suspect_idx)}) {correct_suspect}\"\n",
    "\n",
    "    suspects = \"; \".join(suspects)\n",
    "    # assign\n",
    "    df.at[i, \"answer_options\"] = suspects\n",
    "    df.at[i, \"answer\"] = correct_suspect"
   ]
  },
  {
   "cell_type": "code",
   "execution_count": 8,
   "metadata": {},
   "outputs": [],
   "source": [
    "# save as a new csv file\n",
    "df.to_csv('detective-puzzles.csv', index=False)"
   ]
  },
  {
   "cell_type": "markdown",
   "metadata": {},
   "source": [
    "# Add chain-of-thought answers"
   ]
  },
  {
   "cell_type": "code",
   "execution_count": 9,
   "metadata": {},
   "outputs": [],
   "source": [
    "# init edge browser\n",
    "browser = Browser('edge', headless=False)"
   ]
  },
  {
   "cell_type": "code",
   "execution_count": 10,
   "metadata": {},
   "outputs": [],
   "source": [
    "browser.visit(\"https://www.5minutemystery.com\")\n",
    "# Before proceedding sign in now manually with your login and password"
   ]
  },
  {
   "cell_type": "code",
   "execution_count": null,
   "metadata": {},
   "outputs": [],
   "source": []
  },
  {
   "cell_type": "code",
   "execution_count": 19,
   "metadata": {},
   "outputs": [],
   "source": [
    "full_answers = []\n",
    "# iterate over puzzle links\n",
    "for index, row in df.iterrows():\n",
    "    # get puzzle link\n",
    "    puzzle_link = row['case_url'] + \"/results\"\n",
    "    # visit puzzle link\n",
    "    browser.visit(puzzle_link)\n",
    "\n",
    "    # click on button with text \"Click here to read the full solution...\"\n",
    "    browser.find_by_text(\"Click here to read the full solution...\").click()\n",
    "    # get full answer from div with class \"section solution-text\"\n",
    "    full_answer = browser.find_by_css('div.section.solution-text').text\n",
    "    full_answers.append(full_answer)"
   ]
  },
  {
   "cell_type": "code",
   "execution_count": 144,
   "metadata": {},
   "outputs": [],
   "source": [
    "browser.quit()"
   ]
  },
  {
   "cell_type": "code",
   "execution_count": 24,
   "metadata": {},
   "outputs": [],
   "source": [
    "# replace double end of line symbols with a single in full answers\n",
    "full_answers = [full_answer.replace(\"\\n\\n\", \"\\n\") for full_answer in full_answers]\n",
    "# add full answers to dataframe\n",
    "df['outcome'] = full_answers"
   ]
  },
  {
   "cell_type": "code",
   "execution_count": null,
   "metadata": {},
   "outputs": [],
   "source": [
    "# import ast\n",
    "# # read full.csv\n",
    "# df_full = pd.read_csv('full.csv')\n",
    "# df = pd.read_csv('detective-puzzles.csv')\n",
    "\n",
    "# for index, row in df_full.iterrows():\n",
    "#     suspect_names = row['answer_options']\n",
    "#     df.at[index, 'answer_options'] = \"; \".join(ast.literal_eval(suspect_names))"
   ]
  },
  {
   "cell_type": "code",
   "execution_count": 127,
   "metadata": {},
   "outputs": [],
   "source": [
    "# change order of columns\n",
    "df = df[['case_name', 'case_url', 'author_name', 'author_url', 'attempts', 'solve_rate', 'mystery_text', 'answer_options', 'answer', 'outcome']]"
   ]
  },
  {
   "cell_type": "code",
   "execution_count": 132,
   "metadata": {},
   "outputs": [],
   "source": [
    "# strip each option in answer_options, full_answer, mystery_text\n",
    "# full_answer and mystery_text are just strings\n",
    "df['answer_options'] = df['answer_options'].apply(lambda x: \"; \".join([s.strip() for s in x.split(\"; \")]))\n",
    "df['outcome'] = df['outcome'].apply(lambda x: x.strip())\n",
    "df['mystery_text'] = df['mystery_text'].apply(lambda x: x.strip())"
   ]
  },
  {
   "cell_type": "code",
   "execution_count": 135,
   "metadata": {},
   "outputs": [],
   "source": [
    "# save as a new csv file\n",
    "df.to_csv('detective-puzzles.csv', index=False)"
   ]
  },
  {
   "cell_type": "code",
   "execution_count": 143,
   "metadata": {},
   "outputs": [
    {
     "data": {
      "text/plain": [
       "Moe Zilla            43\n",
       "Tom Fowler           42\n",
       "William Shepard      24\n",
       "Laird Long           18\n",
       "Robbie Cutler        12\n",
       "Barney Parmington    10\n",
       "Stefanina Hill        6\n",
       "Steve Shrott          6\n",
       "Nick Andreychuk       5\n",
       "Nicholas LeVack       4\n",
       "Ernest Capraro        2\n",
       "Andrea Hein           2\n",
       "Doug Fellin           2\n",
       "Tammy-Lee Miller      2\n",
       "Meghan Ford           1\n",
       "Brad Marsh            1\n",
       "Susanne Shaphren      1\n",
       "Randy Godwin          1\n",
       "Ryan Hogan            1\n",
       "Matthew Lieff         1\n",
       "Perry McCarney        1\n",
       "Nicholas Lovell       1\n",
       "Mike Wever            1\n",
       "Meg A.  Write         1\n",
       "Elsa Darcy            1\n",
       "PIP Writer            1\n",
       "Julie Hockenberry     1\n",
       "Name: author_name, dtype: int64"
      ]
     },
     "execution_count": 143,
     "metadata": {},
     "output_type": "execute_result"
    }
   ],
   "source": [
    "df['author_name'].value_counts()"
   ]
  },
  {
   "cell_type": "code",
   "execution_count": 141,
   "metadata": {},
   "outputs": [
    {
     "data": {
      "text/plain": [
       "170"
      ]
     },
     "execution_count": 141,
     "metadata": {},
     "output_type": "execute_result"
    }
   ],
   "source": [
    "# print all authors and hom many puzzles they have\n",
    "df['author_name'].unique()\n",
    "df['author_name'].value_counts()\n",
    "\n",
    "# check how many stories in total wrote top 10 authors\n",
    "df['author_name'].value_counts().head(10).sum()"
   ]
  },
  {
   "cell_type": "code",
   "execution_count": 142,
   "metadata": {},
   "outputs": [
    {
     "data": {
      "text/html": [
       "<div>\n",
       "<style scoped>\n",
       "    .dataframe tbody tr th:only-of-type {\n",
       "        vertical-align: middle;\n",
       "    }\n",
       "\n",
       "    .dataframe tbody tr th {\n",
       "        vertical-align: top;\n",
       "    }\n",
       "\n",
       "    .dataframe thead th {\n",
       "        text-align: right;\n",
       "    }\n",
       "</style>\n",
       "<table border=\"1\" class=\"dataframe\">\n",
       "  <thead>\n",
       "    <tr style=\"text-align: right;\">\n",
       "      <th></th>\n",
       "      <th>case_name</th>\n",
       "      <th>case_url</th>\n",
       "      <th>author_name</th>\n",
       "      <th>author_url</th>\n",
       "      <th>attempts</th>\n",
       "      <th>solve_rate</th>\n",
       "      <th>mistery_text</th>\n",
       "      <th>answer_options</th>\n",
       "      <th>answer</th>\n",
       "      <th>full_answer</th>\n",
       "    </tr>\n",
       "  </thead>\n",
       "  <tbody>\n",
       "    <tr>\n",
       "      <th>0</th>\n",
       "      <td>Sweat it Out</td>\n",
       "      <td>https://www.5minutemystery.com/mystery/sweat-i...</td>\n",
       "      <td>Nick Andreychuk</td>\n",
       "      <td>https://www.5minutemystery.com/author/mysteryman</td>\n",
       "      <td>1200</td>\n",
       "      <td>39.4</td>\n",
       "      <td>Rubbernecking is a dangerous sport. I should k...</td>\n",
       "      <td>Chris Henderson; Dave Perkins; Larry Douglas; ...</td>\n",
       "      <td>Chris Henderson</td>\n",
       "      <td>“Well, out with it!” Nathan exclaimed. “Or I’l...</td>\n",
       "    </tr>\n",
       "    <tr>\n",
       "      <th>1</th>\n",
       "      <td>Mystery of the Missing Heart</td>\n",
       "      <td>https://www.5minutemystery.com/mystery/mystery...</td>\n",
       "      <td>Mike Wever</td>\n",
       "      <td>https://www.5minutemystery.com/author/mike_wever</td>\n",
       "      <td>3274</td>\n",
       "      <td>65.1</td>\n",
       "      <td>I was helping to clean up after the school pla...</td>\n",
       "      <td>Eric Winter; Jenny Jackson; Jimmy Jackson; Wen...</td>\n",
       "      <td>Eric Winter</td>\n",
       "      <td>“Eric, you’ve got to return that heart to Mrs....</td>\n",
       "    </tr>\n",
       "    <tr>\n",
       "      <th>2</th>\n",
       "      <td>Stealing Second Base</td>\n",
       "      <td>https://www.5minutemystery.com/mystery/stealin...</td>\n",
       "      <td>William Shepard</td>\n",
       "      <td>https://www.5minutemystery.com/author/BillShepard</td>\n",
       "      <td>1452</td>\n",
       "      <td>57.0</td>\n",
       "      <td>The Westbrook High School gymnasium was decora...</td>\n",
       "      <td>Coach Joe Morgan; Mary Thornton; Randy Newsom;...</td>\n",
       "      <td>Mary Thornton</td>\n",
       "      <td>I saw Principal Carol Jackson going into the f...</td>\n",
       "    </tr>\n",
       "    <tr>\n",
       "      <th>3</th>\n",
       "      <td>Murder in the Old House</td>\n",
       "      <td>https://www.5minutemystery.com/mystery/murder-...</td>\n",
       "      <td>Tom Fowler</td>\n",
       "      <td>https://www.5minutemystery.com/author/tfowler</td>\n",
       "      <td>4056</td>\n",
       "      <td>54.7</td>\n",
       "      <td>Todd Jensen recently inherited the old Jensen ...</td>\n",
       "      <td>Bathroom; Bedroom of daughter, Anita Jensen; B...</td>\n",
       "      <td>Bathroom</td>\n",
       "      <td>Charlene looked into her empty cup and began t...</td>\n",
       "    </tr>\n",
       "    <tr>\n",
       "      <th>4</th>\n",
       "      <td>The Chess Mystery</td>\n",
       "      <td>https://www.5minutemystery.com/mystery/the-che...</td>\n",
       "      <td>Moe Zilla</td>\n",
       "      <td>https://www.5minutemystery.com/author/mzilla</td>\n",
       "      <td>2104</td>\n",
       "      <td>50.0</td>\n",
       "      <td>It was almost magic. All the chess pieces look...</td>\n",
       "      <td>Father; Greg; Tina; Uncle Larry</td>\n",
       "      <td>Greg</td>\n",
       "      <td>\"Did Dad steal the pieces?\" Tina asked.\\n\"He c...</td>\n",
       "    </tr>\n",
       "    <tr>\n",
       "      <th>...</th>\n",
       "      <td>...</td>\n",
       "      <td>...</td>\n",
       "      <td>...</td>\n",
       "      <td>...</td>\n",
       "      <td>...</td>\n",
       "      <td>...</td>\n",
       "      <td>...</td>\n",
       "      <td>...</td>\n",
       "      <td>...</td>\n",
       "      <td>...</td>\n",
       "    </tr>\n",
       "    <tr>\n",
       "      <th>186</th>\n",
       "      <td>A Stolen Future</td>\n",
       "      <td>https://www.5minutemystery.com/mystery/a-stole...</td>\n",
       "      <td>Doug Fellin</td>\n",
       "      <td>https://www.5minutemystery.com/author/Dfellin</td>\n",
       "      <td>1692</td>\n",
       "      <td>61.1</td>\n",
       "      <td>George Wilson slid his access card through the...</td>\n",
       "      <td>Donna Blake; George Wilson; Jeffery Sharp; Pet...</td>\n",
       "      <td>Jeffery Sharp</td>\n",
       "      <td>Before going into the conference room, I asked...</td>\n",
       "    </tr>\n",
       "    <tr>\n",
       "      <th>187</th>\n",
       "      <td>The Dirty Half Dozen</td>\n",
       "      <td>https://www.5minutemystery.com/mystery/the-dir...</td>\n",
       "      <td>Tom Fowler</td>\n",
       "      <td>https://www.5minutemystery.com/author/tfowler</td>\n",
       "      <td>1137</td>\n",
       "      <td>37.5</td>\n",
       "      <td>The “Dirty Half Dozen” was a club of six recen...</td>\n",
       "      <td>Bethany Knight; Joe Clark; Sherry Fogle; Tonya...</td>\n",
       "      <td>Wayne Clark</td>\n",
       "      <td>“Wayne, it had to be you.”\\n“What! Why?”\\n“Wel...</td>\n",
       "    </tr>\n",
       "    <tr>\n",
       "      <th>188</th>\n",
       "      <td>A Porsche of Course</td>\n",
       "      <td>https://www.5minutemystery.com/mystery/a-porsc...</td>\n",
       "      <td>Randy Godwin</td>\n",
       "      <td>https://www.5minutemystery.com/author/Rgodwin</td>\n",
       "      <td>1265</td>\n",
       "      <td>36.8</td>\n",
       "      <td>When Martin Caldwell got to his office on Mond...</td>\n",
       "      <td>Amy Golden; Frankie Cole; Jeremy Steele; Lione...</td>\n",
       "      <td>Frankie Cole</td>\n",
       "      <td>When Bill asked who it was, Martin explained t...</td>\n",
       "    </tr>\n",
       "    <tr>\n",
       "      <th>189</th>\n",
       "      <td>The Mystery of the Missing Story</td>\n",
       "      <td>https://www.5minutemystery.com/mystery/the-mys...</td>\n",
       "      <td>Julie Hockenberry</td>\n",
       "      <td>https://www.5minutemystery.com/author/juliehoc...</td>\n",
       "      <td>1253</td>\n",
       "      <td>55.8</td>\n",
       "      <td>“It snows and everyone becomes a kid again,” J...</td>\n",
       "      <td>Alex Rebmevon; Amy; Lucy; Sarah</td>\n",
       "      <td>Lucy</td>\n",
       "      <td>“It must have been Alex,” Jack said, his cheek...</td>\n",
       "    </tr>\n",
       "    <tr>\n",
       "      <th>190</th>\n",
       "      <td>The Case of the Missing Friend</td>\n",
       "      <td>https://www.5minutemystery.com/mystery/the-cas...</td>\n",
       "      <td>Tom Fowler</td>\n",
       "      <td>https://www.5minutemystery.com/author/tfowler</td>\n",
       "      <td>1858</td>\n",
       "      <td>49.1</td>\n",
       "      <td>Thursday night, November 21, 1963. The weather...</td>\n",
       "      <td>Billy Friend; Diana Scott; Harrell Garner; Sus...</td>\n",
       "      <td>Diana Scott</td>\n",
       "      <td>Lieutenant Petit, who had slept little since T...</td>\n",
       "    </tr>\n",
       "  </tbody>\n",
       "</table>\n",
       "<p>191 rows × 10 columns</p>\n",
       "</div>"
      ],
      "text/plain": [
       "                            case_name  \\\n",
       "0                        Sweat it Out   \n",
       "1        Mystery of the Missing Heart   \n",
       "2                Stealing Second Base   \n",
       "3             Murder in the Old House   \n",
       "4                   The Chess Mystery   \n",
       "..                                ...   \n",
       "186                   A Stolen Future   \n",
       "187              The Dirty Half Dozen   \n",
       "188              A Porsche of Course    \n",
       "189  The Mystery of the Missing Story   \n",
       "190    The Case of the Missing Friend   \n",
       "\n",
       "                                              case_url        author_name  \\\n",
       "0    https://www.5minutemystery.com/mystery/sweat-i...    Nick Andreychuk   \n",
       "1    https://www.5minutemystery.com/mystery/mystery...         Mike Wever   \n",
       "2    https://www.5minutemystery.com/mystery/stealin...    William Shepard   \n",
       "3    https://www.5minutemystery.com/mystery/murder-...         Tom Fowler   \n",
       "4    https://www.5minutemystery.com/mystery/the-che...          Moe Zilla   \n",
       "..                                                 ...                ...   \n",
       "186  https://www.5minutemystery.com/mystery/a-stole...        Doug Fellin   \n",
       "187  https://www.5minutemystery.com/mystery/the-dir...         Tom Fowler   \n",
       "188  https://www.5minutemystery.com/mystery/a-porsc...       Randy Godwin   \n",
       "189  https://www.5minutemystery.com/mystery/the-mys...  Julie Hockenberry   \n",
       "190  https://www.5minutemystery.com/mystery/the-cas...         Tom Fowler   \n",
       "\n",
       "                                            author_url  attempts  solve_rate  \\\n",
       "0     https://www.5minutemystery.com/author/mysteryman      1200        39.4   \n",
       "1     https://www.5minutemystery.com/author/mike_wever      3274        65.1   \n",
       "2    https://www.5minutemystery.com/author/BillShepard      1452        57.0   \n",
       "3        https://www.5minutemystery.com/author/tfowler      4056        54.7   \n",
       "4         https://www.5minutemystery.com/author/mzilla      2104        50.0   \n",
       "..                                                 ...       ...         ...   \n",
       "186      https://www.5minutemystery.com/author/Dfellin      1692        61.1   \n",
       "187      https://www.5minutemystery.com/author/tfowler      1137        37.5   \n",
       "188      https://www.5minutemystery.com/author/Rgodwin      1265        36.8   \n",
       "189  https://www.5minutemystery.com/author/juliehoc...      1253        55.8   \n",
       "190      https://www.5minutemystery.com/author/tfowler      1858        49.1   \n",
       "\n",
       "                                          mistery_text  \\\n",
       "0    Rubbernecking is a dangerous sport. I should k...   \n",
       "1    I was helping to clean up after the school pla...   \n",
       "2    The Westbrook High School gymnasium was decora...   \n",
       "3    Todd Jensen recently inherited the old Jensen ...   \n",
       "4    It was almost magic. All the chess pieces look...   \n",
       "..                                                 ...   \n",
       "186  George Wilson slid his access card through the...   \n",
       "187  The “Dirty Half Dozen” was a club of six recen...   \n",
       "188  When Martin Caldwell got to his office on Mond...   \n",
       "189  “It snows and everyone becomes a kid again,” J...   \n",
       "190  Thursday night, November 21, 1963. The weather...   \n",
       "\n",
       "                                        answer_options           answer  \\\n",
       "0    Chris Henderson; Dave Perkins; Larry Douglas; ...  Chris Henderson   \n",
       "1    Eric Winter; Jenny Jackson; Jimmy Jackson; Wen...      Eric Winter   \n",
       "2    Coach Joe Morgan; Mary Thornton; Randy Newsom;...    Mary Thornton   \n",
       "3    Bathroom; Bedroom of daughter, Anita Jensen; B...         Bathroom   \n",
       "4                      Father; Greg; Tina; Uncle Larry             Greg   \n",
       "..                                                 ...              ...   \n",
       "186  Donna Blake; George Wilson; Jeffery Sharp; Pet...    Jeffery Sharp   \n",
       "187  Bethany Knight; Joe Clark; Sherry Fogle; Tonya...      Wayne Clark   \n",
       "188  Amy Golden; Frankie Cole; Jeremy Steele; Lione...     Frankie Cole   \n",
       "189                    Alex Rebmevon; Amy; Lucy; Sarah             Lucy   \n",
       "190  Billy Friend; Diana Scott; Harrell Garner; Sus...      Diana Scott   \n",
       "\n",
       "                                           full_answer  \n",
       "0    “Well, out with it!” Nathan exclaimed. “Or I’l...  \n",
       "1    “Eric, you’ve got to return that heart to Mrs....  \n",
       "2    I saw Principal Carol Jackson going into the f...  \n",
       "3    Charlene looked into her empty cup and began t...  \n",
       "4    \"Did Dad steal the pieces?\" Tina asked.\\n\"He c...  \n",
       "..                                                 ...  \n",
       "186  Before going into the conference room, I asked...  \n",
       "187  “Wayne, it had to be you.”\\n“What! Why?”\\n“Wel...  \n",
       "188  When Bill asked who it was, Martin explained t...  \n",
       "189  “It must have been Alex,” Jack said, his cheek...  \n",
       "190  Lieutenant Petit, who had slept little since T...  \n",
       "\n",
       "[191 rows x 10 columns]"
      ]
     },
     "execution_count": 142,
     "metadata": {},
     "output_type": "execute_result"
    }
   ],
   "source": [
    "df"
   ]
  }
 ],
 "metadata": {
  "kernelspec": {
   "display_name": "Python 3.10.4 ('minirl')",
   "language": "python",
   "name": "python3"
  },
  "language_info": {
   "codemirror_mode": {
    "name": "ipython",
    "version": 3
   },
   "file_extension": ".py",
   "mimetype": "text/x-python",
   "name": "python",
   "nbconvert_exporter": "python",
   "pygments_lexer": "ipython3",
   "version": "3.10.4"
  },
  "orig_nbformat": 4,
  "vscode": {
   "interpreter": {
    "hash": "7ae41c531dae388d432c578af6f2c159705b5a45abf954f5c43dd5cfbfe0fa12"
   }
  }
 },
 "nbformat": 4,
 "nbformat_minor": 2
}
